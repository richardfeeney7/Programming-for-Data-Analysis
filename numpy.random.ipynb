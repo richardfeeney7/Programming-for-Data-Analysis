{
 "cells": [
  {
   "cell_type": "markdown",
   "metadata": {},
   "source": [
    "# Programming-for-Data-Analysis"
   ]
  },
  {
   "cell_type": "markdown",
   "metadata": {},
   "source": [
    "## Task 1 : Explain the overall purpose of the package"
   ]
  },
  {
   "cell_type": "markdown",
   "metadata": {},
   "source": [
    "NumPy, short for Numerical Python, is a Python library. It is a fundamental Python package that is used for scientific \n",
    "computing.  According to (Docs.scipy.org, 2019), _“NumPy provides a multidimensional array object, various derived objects \n",
    "(such as masked arrays and matrices), and an assortment of routines for fast operations on arrays, including mathematical, \n",
    "logical, shape manipulation, sorting, selecting, I/O, discrete Fourier transforms, basic linear algebra, basic statistical \n",
    "operations, random simulation and much more”._ Basically what this means is that NumPy is very fast dealing with numbers that are in the list or multidimensional arrays (lists within lists). We can think of an array as a collection of elements that are of the same type and can store one or more values within a single variable. NumPy when used with packages such as Pandas and Matplotlib also us to visually see graphs and statistics.\n",
    "\n",
    "\n",
    "With regards to numpy.random, this is a sub-package of numpy package in Python. While working with simulations the ability to generate random numbers is required. According to (Subscription.packtpub.com, 2019) _“It uses a particular algorithm, \n",
    "called the Mersenne Twister, to generate pseudorandom numbers”._ When we think of the word random we would assume that the data that is generated would be completely random but with Python, this is not the case in the scientific sense of the word as a pseudorandom number generator (PRNG) is essentially an algorithm for generating seemingly random but still reproducible data. \n"
   ]
  },
  {
   "cell_type": "markdown",
   "metadata": {},
   "source": [
    "## Task 2 : Explain the use of the “Simple random data” and “Permutations” functions\n",
    "\n",
    "#### Task 2.1 : Explain the use of “Simple random data” "
   ]
  },
  {
   "cell_type": "markdown",
   "metadata": {},
   "source": [
    "A simple random sample can be defined as a subset of a statistical population where its members have equal probability to be chosen. Simple random data will generate random values that depend on the function selected. The main functions of Random Sampling are uniform, uniform sample, discrete uniform, continuous uniform, and standard normal distributions. \n",
    "\n",
    "#### numpy.random uses many different functions that I will explain below."
   ]
  },
  {
   "cell_type": "code",
   "execution_count": 1,
   "metadata": {},
   "outputs": [],
   "source": [
    "# Import the libaries needed \n",
    "\n",
    "import numpy as np\n",
    "import matplotlib.pyplot as plt\n",
    "%matplotlib inline\n",
    "import seaborn as sns"
   ]
  },
  {
   "cell_type": "code",
   "execution_count": 2,
   "metadata": {},
   "outputs": [
    {
     "name": "stdout",
     "output_type": "stream",
     "text": [
      "1D Array\n",
      " [0.79699719 0.98999712 0.20584494] \n",
      "\n",
      "2D Array\n",
      " [[2.20987827e-01 9.44359402e-01 7.90747241e-01 4.19251828e-01\n",
      "  3.78384720e-01 3.55697469e-01]\n",
      " [6.78877526e-01 3.58827352e-02 9.92208820e-01 8.52408453e-02\n",
      "  7.57714182e-01 1.25331317e-01]\n",
      " [5.88069595e-04 8.98306233e-01 5.38689829e-01 6.11874012e-01\n",
      "  1.22661602e-01 3.47943724e-01]] \n",
      "\n",
      "3D Array\n",
      " [[[0.21928551 0.70648413 0.83772387 0.14822068 0.23883129 0.068964\n",
      "   0.19936803]\n",
      "  [0.35184456 0.74473213 0.25437268 0.42187331 0.63403794 0.3783715\n",
      "   0.70934782]]\n",
      "\n",
      " [[0.36064792 0.3482015  0.64825735 0.80545694 0.77786665 0.66427901\n",
      "   0.28997881]\n",
      "  [0.96491442 0.07346017 0.67181854 0.82204043 0.82884558 0.67812999\n",
      "   0.93139915]]\n",
      "\n",
      " [[0.54384215 0.2036616  0.19354142 0.48641998 0.48819425 0.20788136\n",
      "   0.22217581]\n",
      "  [0.13530723 0.52318639 0.1889823  0.31840521 0.89823522 0.34033677\n",
      "   0.04149891]]] \n",
      "\n"
     ]
    }
   ],
   "source": [
    "# Example of simply random data using numpy.random.rand using different array sizes\n",
    "\n",
    "'''\n",
    "numpy.random.rand (d0, d1, …, dn)\n",
    "\n",
    "    * Generates an array of a specified shape and fills the shape with random values\n",
    "    * Uses uniform distribution over\n",
    "    * A uniform distribution is one in which all values are equally likely with the set range. For example, a distribution \n",
    "      from zero to ten, the values from 2 to 3 have a 10% probability as do values from 3 to 5.\n",
    "'''\n",
    "\n",
    "# 1D Array \n",
    "print(\"1D Array\\n\",np.random.rand(3),\"\\n\")\n",
    "\n",
    "# 2D Array\n",
    "# Output an array that has an array within it.\n",
    "print(\"2D Array\\n\",np.random.rand(3,6),\"\\n\")\n",
    "\n",
    "# 3D Array\n",
    "# Output an array that is an array of arrays of arrays.\n",
    "print(\"3D Array\\n\",np.random.rand(3,2,7),\"\\n\")\n"
   ]
  },
  {
   "cell_type": "code",
   "execution_count": 3,
   "metadata": {},
   "outputs": [
    {
     "name": "stdout",
     "output_type": "stream",
     "text": [
      "1D Array\n",
      " [-1.36622335  0.96294391  2.73416534] \n",
      "\n",
      "2D Array\n",
      " [[ 0.48549245  0.74838238  1.85882176  0.81906977]\n",
      " [-0.63638825  0.0893912   0.92894962  0.91040735]\n",
      " [-1.81369983 -0.42578674 -0.2612493   1.21063597]] \n",
      "\n",
      "3D Array\n",
      " [[[-0.43352887  1.22907474 -0.57157797]\n",
      "  [-1.78542317  0.49626026 -0.71488337]\n",
      "  [-0.97541653 -0.28302717 -0.47943585]\n",
      "  [ 0.28470199 -0.00525906 -0.47064093]]\n",
      "\n",
      " [[-0.55968073  0.9371564  -0.48617887]\n",
      "  [ 0.71596779 -0.30988562 -0.56364141]\n",
      "  [-0.2849679  -1.73723619 -0.02042168]\n",
      "  [ 0.11563628 -1.02960956 -0.43627746]]\n",
      "\n",
      " [[ 0.15210177  0.53367299  0.30091849]\n",
      "  [ 1.26322597  1.3510398  -0.54543439]\n",
      "  [-1.139509    1.35854616  0.54073886]\n",
      "  [-0.3015689   1.04402603 -0.2261156 ]]] \n",
      "\n",
      "2D Array\n",
      " [[ 1.31374786 -0.60213154  0.2894127   0.37165208]\n",
      " [ 0.10728584  0.16789274  0.26290982 -0.00663669]\n",
      " [ 0.49710053  0.68789123  1.28939517  0.67822178]] \n",
      "\n",
      "\n",
      "Array * 2 : \n",
      " [[ 2.62749573 -1.20426309  0.5788254   0.74330415]\n",
      " [ 0.21457168  0.33578548  0.52581965 -0.01327337]\n",
      " [ 0.99420106  1.37578247  2.57879033  1.35644355]]\n",
      "\n",
      "Array ** 2 : \n",
      " [[1.72593345e+00 3.62562395e-01 8.37597099e-02 1.38125266e-01]\n",
      " [1.15102515e-02 2.81879725e-02 6.91215753e-02 4.40455941e-05]\n",
      " [2.47108938e-01 4.73194348e-01 1.66253989e+00 4.59984779e-01]]\n"
     ]
    }
   ],
   "source": [
    "'''\n",
    "numpy.random.randn(d0, d1, ..., dn)\n",
    "\n",
    "    * Generates an array of a specified shape and fills the shape with random values \n",
    "    * Uses normal distribution.\n",
    "    * A normal distribution is when vales cluster around the average\n",
    "    * Possible to manipulate array.\n",
    "'''\n",
    "\n",
    "# 1D Array \n",
    "randn_array1D = np.random.randn(3)\n",
    "print(\"1D Array\\n\",randn_array1D,\"\\n\")\n",
    "\n",
    "# 2D Array\n",
    "# Output an array that has an array within it.\n",
    "randn_array2D = np.random.randn(3,4)\n",
    "print(\"2D Array\\n\",randn_array2D,\"\\n\")\n",
    " \n",
    "# 3D Array\n",
    "# Output an array that is an array of arrays of arrays.\n",
    "randn_array3D = np.random.randn(3,4,3)\n",
    "print(\"3D Array\\n\",randn_array3D,\"\\n\")\n",
    "\n",
    "\n",
    "# Manipulation of 2D array\n",
    "\n",
    "# 2D Array\n",
    "randn_array2D = np.random.randn(3,4)\n",
    "print(\"2D Array\\n\",randn_array2D,\"\\n\")\n",
    "       \n",
    "# Dividing values with 2. Adding, subtracting and dividing following a similar format. \n",
    "print(\"\\nArray * 2 : \\n\", randn_array2D *2)\n",
    "\n",
    "#  Find array2d ** 2. \n",
    "print(\"\\nArray ** 2 : \\n\", randn_array2D **2)\n",
    "\n",
    " "
   ]
  },
  {
   "cell_type": "code",
   "execution_count": 4,
   "metadata": {},
   "outputs": [
    {
     "name": "stdout",
     "output_type": "stream",
     "text": [
      "1D Array:\n",
      " [5 2 4 5 4 4 5 3 4] \n",
      "\n",
      "2D Array:\n",
      " [[2 2 3]\n",
      " [2 4 3]\n",
      " [5 5 5]\n",
      " [2 4 5]\n",
      " [2 4 4]\n",
      " [2 2 3]\n",
      " [3 3 3]\n",
      " [2 3 5]\n",
      " [3 4 3]] \n",
      "\n",
      "3D Array:\n",
      " [[[3 5]\n",
      "  [2 2]\n",
      "  [3 3]]\n",
      "\n",
      " [[4 4]\n",
      "  [4 3]\n",
      "  [5 4]]\n",
      "\n",
      " [[3 3]\n",
      "  [2 4]\n",
      "  [2 5]]\n",
      "\n",
      " [[2 5]\n",
      "  [5 4]\n",
      "  [5 4]]\n",
      "\n",
      " [[2 2]\n",
      "  [2 4]\n",
      "  [3 5]]\n",
      "\n",
      " [[4 3]\n",
      "  [3 3]\n",
      "  [2 2]]\n",
      "\n",
      " [[3 2]\n",
      "  [2 5]\n",
      "  [2 2]]\n",
      "\n",
      " [[3 5]\n",
      "  [2 2]\n",
      "  [4 5]]\n",
      "\n",
      " [[2 2]\n",
      "  [2 5]\n",
      "  [3 4]]] \n",
      "\n"
     ]
    }
   ],
   "source": [
    "'''\n",
    "numpy.random.randint(low, high=None, size=None, dtype='l')\n",
    "\n",
    "    * Generates and returns random integers. The returned array will be fitter with random numbers from low(inclusive) to \n",
    "      high (exclusive).\n",
    "    * The default value for dtype is np.int.\n",
    "\n",
    "'''\n",
    "\n",
    "# 1D Array\n",
    "# Lowest number will be and including 2 , highest number upto not including 6, 9 values will be displayed in the array\n",
    "randint_array1D = np.random.randint(low = 2, high = 6, size = 9) \n",
    "print (\"1D Array:\\n\",randint_array1D, \"\\n\")  \n",
    "\n",
    "# 2D Array\n",
    "# Output an array that has an array within it. \n",
    "randint_array2D = np.random.randint(low = 2, high = 6, size = (9, 3))\n",
    "print (\"2D Array:\\n\",randint_array2D, \"\\n\") \n",
    "\n",
    "# 3D Array\n",
    "# Output an array that is an array of arrays of arrays.\n",
    "randint_array3D = np.random.randint(low = 2, high = 6, size = (9, 3, 2))\n",
    "print (\"3D Array:\\n\",randint_array3D, \"\\n\") \n"
   ]
  },
  {
   "cell_type": "code",
   "execution_count": 5,
   "metadata": {},
   "outputs": [
    {
     "name": "stdout",
     "output_type": "stream",
     "text": [
      "1D Array:\n",
      " [6 3 6 2 3 3 2 6 6] \n",
      "\n",
      "2D Array:\n",
      " [[5 4 6]\n",
      " [2 2 4]\n",
      " [5 2 5]\n",
      " [5 3 4]\n",
      " [2 5 6]\n",
      " [3 2 2]\n",
      " [6 4 5]\n",
      " [4 4 5]\n",
      " [4 3 2]] \n",
      "\n",
      "3D Array:\n",
      " [[[4 5]\n",
      "  [3 4]\n",
      "  [2 4]]\n",
      "\n",
      " [[3 6]\n",
      "  [4 6]\n",
      "  [3 3]]\n",
      "\n",
      " [[4 2]\n",
      "  [5 4]\n",
      "  [2 5]]\n",
      "\n",
      " [[6 2]\n",
      "  [3 2]\n",
      "  [6 6]]\n",
      "\n",
      " [[5 2]\n",
      "  [4 6]\n",
      "  [6 5]]\n",
      "\n",
      " [[3 2]\n",
      "  [6 3]\n",
      "  [4 5]]\n",
      "\n",
      " [[6 6]\n",
      "  [2 2]\n",
      "  [2 4]]\n",
      "\n",
      " [[6 2]\n",
      "  [4 2]\n",
      "  [5 4]]\n",
      "\n",
      " [[3 3]\n",
      "  [5 3]\n",
      "  [3 2]]] \n",
      "\n"
     ]
    },
    {
     "name": "stderr",
     "output_type": "stream",
     "text": [
      "C:\\Users\\richa\\Anaconda3\\lib\\site-packages\\ipykernel_launcher.py:11: DeprecationWarning: This function is deprecated. Please call randint(2, 6 + 1) instead\n",
      "  # This is added back by InteractiveShellApp.init_path()\n",
      "C:\\Users\\richa\\Anaconda3\\lib\\site-packages\\ipykernel_launcher.py:16: DeprecationWarning: This function is deprecated. Please call randint(2, 6 + 1) instead\n",
      "  app.launch_new_instance()\n",
      "C:\\Users\\richa\\Anaconda3\\lib\\site-packages\\ipykernel_launcher.py:21: DeprecationWarning: This function is deprecated. Please call randint(2, 6 + 1) instead\n"
     ]
    }
   ],
   "source": [
    "'''\n",
    "numpy.random.random_integers(low, high=None, size=None)\n",
    "    \n",
    "    * Please note that this function has been deprecated and tge recommendation is to use randint.\n",
    "    * Generates and returns an array of specified shape and fills it with random integers from low (inclusive) to \n",
    "      high (exclusive)\n",
    "'''\n",
    "\n",
    "# 1D Array\n",
    "# Lowest number will be and including 2 , highest number upto not including 6, 9 values will be displayed in the array\n",
    "random_integers_array1D = np.random.random_integers(low = 2, high = 6, size = 9) \n",
    "print (\"1D Array:\\n\",random_integers_array1D, \"\\n\")  \n",
    "\n",
    "# 2D Array\n",
    "# Output an array that has an array within it.\n",
    "random_integers_array2D = np.random.random_integers(low = 2, high = 6, size = (9, 3))\n",
    "print (\"2D Array:\\n\",random_integers_array2D, \"\\n\") \n",
    "\n",
    "# 3D Array\n",
    "# Output an array that is an array of arrays of arrays.\n",
    "random_integers_array3D = np.random.random_integers(low = 2, high = 6, size = (9, 3, 2))\n",
    "print (\"3D Array:\\n\",random_integers_array3D, \"\\n\") \n"
   ]
  },
  {
   "cell_type": "code",
   "execution_count": 6,
   "metadata": {},
   "outputs": [
    {
     "name": "stdout",
     "output_type": "stream",
     "text": [
      "1D Array:\n",
      " 0.34426577572871886 \n",
      "\n",
      "2D Array:\n",
      " [[0.18650395 0.65992303 0.70897481]] \n",
      "\n",
      "3D Array:\n",
      " [[[0.22760283]\n",
      "  [0.98274639]]\n",
      "\n",
      " [[0.57197213]\n",
      "  [0.82222561]]\n",
      "\n",
      " [[0.73635816]\n",
      "  [0.4416354 ]]] \n",
      "\n"
     ]
    }
   ],
   "source": [
    "'''\n",
    "numpy.random.random_sample(size=None)\n",
    "\n",
    "    * A function for random sampling in numpy. The function will return an array and fill it with random floats.\n",
    "    * The results will be in from a continuous uniform distribution over the stated interval.\n",
    "'''\n",
    "\n",
    "# 1D Array\n",
    "# Output random Float number\n",
    "random_sample_array1D = np.random.random_sample()\n",
    "print (\"1D Array:\\n\",random_sample_array1D, \"\\n\")\n",
    "\n",
    "# 2D Array\n",
    "# Output an array that has an array within it.\n",
    "random_sample_array2D = np.random.random_sample(size =(1, 3))\n",
    "print (\"2D Array:\\n\",random_sample_array2D, \"\\n\") \n",
    "\n",
    "# 3D Array\n",
    "# Output an array that is an array of arrays of arrays.\n",
    "random_sample_array3D = np.random.random_sample((3, 2, 1))\n",
    "print (\"3D Array:\\n\",random_sample_array3D, \"\\n\") "
   ]
  },
  {
   "cell_type": "code",
   "execution_count": 7,
   "metadata": {},
   "outputs": [
    {
     "name": "stdout",
     "output_type": "stream",
     "text": [
      "1D Array:\n",
      " [0.63363611 0.79542172 0.33221917 0.94473853 0.3539084 ] \n",
      "\n",
      "2D Array:\n",
      " [[0.51496937 0.52605563 0.59496371 0.99555588]\n",
      " [0.02098133 0.25859659 0.456918   0.43050902]] \n",
      "\n",
      "3D Array:\n",
      " [[[0.4595764  0.17232551]\n",
      "  [0.902149   0.12987148]\n",
      "  [0.46244056 0.80931842]\n",
      "  [0.19930378 0.88878665]]\n",
      "\n",
      " [[0.50405489 0.22750277]\n",
      "  [0.22607572 0.65436738]\n",
      "  [0.36622361 0.44573023]\n",
      "  [0.07954643 0.22794748]]] \n",
      "\n"
     ]
    }
   ],
   "source": [
    "'''\n",
    "numpy.random.random(size=None)\n",
    "\n",
    "    * Also function for doing random sampling.\n",
    "    * The results will be in from a continuous uniform distribution over the stated interval.\n",
    "'''\n",
    "\n",
    "# 1D Array\n",
    "# Output five random Float numbers\n",
    "random_random_array1D = np.random.random(size = 5)\n",
    "print (\"1D Array:\\n\",random_random_array1D, \"\\n\")\n",
    "\n",
    "# 2D Array\n",
    "# Output an array that has an array within it.\n",
    "random_random_array2D = np.random.random(size =(2, 4))\n",
    "print (\"2D Array:\\n\",random_random_array2D, \"\\n\") \n",
    "\n",
    "# 3D Array\n",
    "# Output an array that is an array of arrays of arrays.\n",
    "random_random_array3D = np.random.random((2, 4, 2))\n",
    "print (\"3D Array:\\n\",random_random_array3D, \"\\n\") \n"
   ]
  },
  {
   "cell_type": "code",
   "execution_count": 8,
   "metadata": {},
   "outputs": [
    {
     "name": "stdout",
     "output_type": "stream",
     "text": [
      "1D Array:\n",
      " 0.5900491052405511 \n",
      "\n",
      "2D Array:\n",
      " [[0.98622034 0.60882009 0.43071348 0.59248638]\n",
      " [0.014558   0.28808438 0.83861039 0.41993936]] \n",
      "\n",
      "3D Array:\n",
      " [[[0.77132222 0.06863822]\n",
      "  [0.88602345 0.65111033]\n",
      "  [0.27310789 0.8369267 ]\n",
      "  [0.57101076 0.71910594]]\n",
      "\n",
      " [[0.8943614  0.8468856 ]\n",
      "  [0.7158707  0.00396371]\n",
      "  [0.38996094 0.84450952]\n",
      "  [0.1988232  0.79490992]]] \n",
      "\n"
     ]
    }
   ],
   "source": [
    "''''\n",
    "numpy.random.ranf(size=None)\n",
    "\n",
    "    * Also function for doing random sampling.\n",
    "    * The results will be in from a continuous uniform distribution over the stated interval.\n",
    "'''\n",
    "\n",
    "\n",
    "# 1D Array\n",
    "# Output random Float number\n",
    "random_ranf_array1D = np.random.ranf()\n",
    "print (\"1D Array:\\n\",random_ranf_array1D, \"\\n\")\n",
    "\n",
    "# 2D Array\n",
    "# Output an array that has an array within it.\n",
    "random_ranf_array2D = np.random.ranf(size =(2, 4))\n",
    "print (\"2D Array:\\n\",random_ranf_array2D, \"\\n\") \n",
    "\n",
    "# 3D Array\n",
    "# Output an array that is an array of arrays of arrays.\n",
    "random_ranf_array3D = np.random.ranf((2, 4, 2))\n",
    "print (\"3D Array:\\n\",random_ranf_array3D, \"\\n\") "
   ]
  },
  {
   "cell_type": "code",
   "execution_count": 9,
   "metadata": {},
   "outputs": [
    {
     "name": "stdout",
     "output_type": "stream",
     "text": [
      "1D Array:\n",
      " [0.44463509 0.16541279 0.38988335 0.53172942 0.16648577] \n",
      "\n",
      "2D Array:\n",
      " [[0.57825567 0.41063993 0.34706102 0.84154538]\n",
      " [0.10321237 0.80646724 0.61803102 0.71525702]] \n",
      "\n",
      "3D Array:\n",
      " [[[0.91900336 0.30494412]\n",
      "  [0.28109574 0.02434911]\n",
      "  [0.20791279 0.18756919]\n",
      "  [0.63492913 0.14057681]]\n",
      "\n",
      " [[0.34829181 0.37495526]\n",
      "  [0.59326346 0.13920978]\n",
      "  [0.26678107 0.42988624]\n",
      "  [0.24797746 0.62559719]]] \n",
      "\n"
     ]
    }
   ],
   "source": [
    "'''\n",
    "numpy.random.sample(size=None)\n",
    "\n",
    "    * Also function for doing random sampling .\n",
    "    * The results will be in from a continuous uniform distribution over the stated interval.\n",
    "'''\n",
    "\n",
    "# 1D Array\n",
    "# Output five random Float numbers\n",
    "random_random_sample_array1D = np.random.sample(size = 5)\n",
    "print (\"1D Array:\\n\",random_random_sample_array1D, \"\\n\")\n",
    "\n",
    "# 2D Array\n",
    "# Output an array that has an array within it.\n",
    "random_random_sample_array2D = np.random.sample(size =(2, 4))\n",
    "print (\"2D Array:\\n\",random_random_sample_array2D, \"\\n\") \n",
    "\n",
    "# 3D Array\n",
    "# Output an array that is an array of arrays of arrays.\n",
    "random_random_sample_array3D = np.random.sample((2, 4, 2))\n",
    "print (\"3D Array:\\n\",random_random_sample_array3D, \"\\n\") \n"
   ]
  },
  {
   "cell_type": "code",
   "execution_count": 10,
   "metadata": {},
   "outputs": [
    {
     "name": "stdout",
     "output_type": "stream",
     "text": [
      "[3 3 3]\n",
      "[0 3 2]\n"
     ]
    }
   ],
   "source": [
    "'''\n",
    "numpy.random.choice(a, size=None, replace=True, p=None)\n",
    "\n",
    "    * Generates a random sample from a given 1-D array\n",
    "    * This can be used when selecting a random password from a list or selecting a random item, \n",
    "'''\n",
    "\n",
    "# Display a non-uniform random sample\n",
    "print(np.random.choice(5, 3, p=[0.1, 0, 0.3, 0.6, 0]))\n",
    "\n",
    "# Use replacement\n",
    "print(np.random.choice(5, 3, replace=False, p=[0.1, 0, 0.3, 0.6, 0]))\n"
   ]
  },
  {
   "cell_type": "code",
   "execution_count": 11,
   "metadata": {},
   "outputs": [
    {
     "name": "stdout",
     "output_type": "stream",
     "text": [
      "Random bytes:  b'\\xca\\xb2\\x10\\x0e\\x8a\\x0b6\\x88\\xedV'\n"
     ]
    }
   ],
   "source": [
    "'''\n",
    "numpy.random.bytes(length)\n",
    "\n",
    "    * Return a random binary string\n",
    "'''\n",
    "\n",
    "# Print ramdon bytes\n",
    "print(\"Random bytes: \", np.random.bytes(10))"
   ]
  },
  {
   "cell_type": "markdown",
   "metadata": {},
   "source": [
    "#### Task 2.2 : Explain the use of “Permutations” functions"
   ]
  },
  {
   "cell_type": "markdown",
   "metadata": {},
   "source": [
    "A permutation function will arrange a list or series of numbers. This function can also be used to change the order in a given list. The two main functions are permutation and shuffle which I will demonstrate below with examples. \n",
    "\n",
    "random.shuffle will shuffle the array along the first axis of a multi-dimensional array while the order any sub-arrays will be changed and their contents will stay the same.\n",
    "\n",
    "random.permutation, on the other hand works differently. If the input is integer it will randomly permute np.arange(x) while if the input is an array it will make a copy and shuffle the elements randomly."
   ]
  },
  {
   "cell_type": "code",
   "execution_count": 12,
   "metadata": {},
   "outputs": [
    {
     "name": "stdout",
     "output_type": "stream",
     "text": [
      "Shuffle 1D [  2  10   3   8   1   2   3   5 100] \n",
      "\n",
      "Shuffle 3D [list([2, 5, 6, 1, 300]) list([100, 5, 1, 2, 3]) list([9, 4, 23, 200])] \n",
      "\n",
      "Reshape 1D \n",
      " [[  2  10   3]\n",
      " [  8   1   2]\n",
      " [  3   5 100]] \n",
      "\n"
     ]
    }
   ],
   "source": [
    "'''\n",
    "numpy.random.shuffle(x)\n",
    "\n",
    "    * Modify a sequence in-place by shuffling its contents.\n",
    "    * Shuffle the array along the first axis of a multi-dimensional array while the order any sub-arrays will be changed \n",
    "      and their contents will stay the same.\n",
    "'''\n",
    "\n",
    "# Shuffle can be used in differenrt deimensions. \n",
    "a1 = np.array([100, 5, 1, 2, 3,3,2,8,10])\n",
    "np.random.shuffle(a1)\n",
    "print(\"Shuffle 1D\",a1, \"\\n\")\n",
    "\n",
    "# Shuffle can be used in differenrt deimensions. \n",
    "a3 = np.array([[100,5,1,2,3] , [9,4,23,200], [2,5,6,1,300]])\n",
    "np.random.shuffle(a3)\n",
    "print(\"Shuffle 3D\",a3,\"\\n\")\n",
    "\n",
    "# The shuffle can also be reshaped. I have reshaped a1 as it has 9 digits and the reshape is will 3,3 \n",
    "a3 = a1.reshape(3,3)\n",
    "print(\"Reshape 1D \\n\",a3,\"\\n\")"
   ]
  },
  {
   "cell_type": "code",
   "execution_count": 33,
   "metadata": {},
   "outputs": [
    {
     "name": "stdout",
     "output_type": "stream",
     "text": [
      "Array from 0  9 :\n",
      " [3 9 8 2 6 5 1 7 4 0] \n",
      "\n",
      "Permute array :\n",
      " [list([9, 4, 23, 200]) list([2, 5, 6, 1, 300]) list([100, 5, 1, 2, 3])] \n",
      "\n",
      "Permute array :\n",
      " ['Feeney' 'Richard' 'World' 'Hello' 'Here']\n"
     ]
    }
   ],
   "source": [
    "'''\n",
    "numpy.random.permutation(x)\n",
    "\n",
    "    * Randomly permute a sequence, or return a permuted range.\n",
    "'''\n",
    "\n",
    "# Generate random ordered an array using permutation.\n",
    "print(\"Array from 0  9 :\\n\",np.random.permutation(10),\"\\n\")\n",
    "\n",
    "# Permute an array.\n",
    "print(\"Permute array :\\n\",np.random.permutation ([[100,5,1,2,3] , [9,4,23,200], [2,5,6,1,300]]),\"\\n\")\n",
    "\n",
    "# Permute an array\n",
    "x = ['Hello', 'World', 'Richard', 'Feeney', 'Here']\n",
    "print(\"Permute array :\\n\",np.random.permutation(x))\n"
   ]
  },
  {
   "cell_type": "markdown",
   "metadata": {},
   "source": [
    "## Task 3: Explain the use and purpose of at least five “Distributions” functions.\n",
    "\n",
    "In this section I will explain the following distributions :\n",
    "\n",
    "* Normal Distribution\n",
    "* Binomial Distribution\n",
    "* Uniform distribution\n",
    "* Poisson Distribution\n",
    "* Exponential Distribution"
   ]
  },
  {
   "cell_type": "markdown",
   "metadata": {},
   "source": [
    "#### Task 3.1 : Normal Distribution"
   ]
  },
  {
   "cell_type": "markdown",
   "metadata": {},
   "source": [
    "The normal distribution also known as the Gaussian distribution has a bell curve and can be considered one of the most common and most important probability distributions in statistics. The reason it is so important is that it fits many natural phenomena. (Frost, 2019). For example, heights, test scores, etc all follow the normal distribution.\n",
    "\n",
    "The mean is represented at the center of the bell curve. One-half of the values will be placed to the left and the other half will be placed to the right. The total area under the curve is referred to as one standard deviation of the mean. We can add more standard deviation so we can catch all the values. \n",
    "\n",
    "The probability density is :\n",
    "\n",
    "$$p(x) = \\frac{1}{\\sqrt{ 2 \\pi \\sigma^2 }}\n",
    " e^{ - \\frac{ (x - \\mu)^2 } {2 \\sigma^2} },$$\n",
    "\n",
    "Standard deviation is a measurement of how the numbers on the chart will be spread. The 68-95-99.7 rule stats that when using normal distribution, we can view 68 as the total percentage of values and are within the first standard deviation of the mean, 95 percent of values are in the second deviation of the mean and that 7 percent will lie in the third deviation. (Mathsisfun.com, 2019)\n",
    "\n",
    "Please view the image below that will offer a visual representation: \n",
    "\n",
    "\n",
    "<img src=\"images/Normal.JPG\"/>\n"
   ]
  },
  {
   "cell_type": "code",
   "execution_count": 14,
   "metadata": {},
   "outputs": [
    {
     "name": "stdout",
     "output_type": "stream",
     "text": [
      "1D Array filled with random values  : \n",
      "\n",
      " [ 0.50932129  0.0209009   0.42398616  0.11167174 -2.24751579  3.03299457\n",
      " -0.1217035   0.30770203 -0.28054085 -0.16368538  0.10792105 -0.21844605\n",
      "  1.00568173 -0.44383249  0.75689572  0.42225566  1.36048801  0.01002822\n",
      "  1.07844869 -0.1165629   1.05157899 -0.75503752 -1.36127316  1.35019287\n",
      " -0.72580527 -1.39266031  0.46000413  0.17227658 -1.12330008  1.47714339\n",
      "  1.53731148  0.46338968  0.56128087 -1.08715145 -0.30476396 -0.51554278\n",
      " -0.81714499 -0.73047391 -0.44320444 -0.07869903 -0.45615281  0.75758391\n",
      "  0.59331924  0.39130559 -0.12767494  0.95434783 -0.9258655  -0.34701027\n",
      " -0.10945203  2.70558899  0.82185109  0.72901199 -0.74715274  0.143364\n",
      " -0.3438765   1.49014944 -0.32483687 -0.13850193  0.88921918 -1.13106018\n",
      " -0.38816627 -0.90297212  1.95412204 -1.19837745  0.61927814  0.7928556\n",
      "  1.85756626 -1.02683049  0.05507772  0.27587683  1.11741196 -0.48295448\n",
      " -0.48278329 -0.45750853  0.1564847  -0.43593085 -0.33064678  0.22270469\n",
      " -0.29095844 -0.2207007  -0.38333834 -0.51940792  0.84460852  1.14856139\n",
      " -0.36082572 -0.6810598   0.43304806  0.31564646  0.16776085  1.02890017\n",
      " -0.10085483 -1.14572045 -0.65755114  0.36600581  0.59156616  1.87539587\n",
      "  2.96910832 -1.58847422 -2.78435945  0.17165617]\n"
     ]
    },
    {
     "data": {
      "image/png": "[encoded data removed]",
      "text/plain": [
       "<Figure size 432x288 with 1 Axes>"
      ]
     },
     "metadata": {
      "needs_background": "light"
     },
     "output_type": "display_data"
    }
   ],
   "source": [
    "# np.random.normal(loc=0.0, scale=1.0, size=None) \n",
    "   \n",
    "# 1D Array as per Gaussian Distribution , The mean is 0 and standard deviation is 1\n",
    "normal = np.random.normal(0, 1.0, 100) \n",
    "print(\"1D Array filled with random values  :\",\"\\n\\n\", normal); \n",
    "\n",
    "# Plot Histogram\n",
    "plt.title(\"Normal Distribution Histogram\")\n",
    "plt.show(sns.distplot(np.random.normal(0, 3, 1000), bins=30))"
   ]
  },
  {
   "cell_type": "code",
   "execution_count": 15,
   "metadata": {},
   "outputs": [
    {
     "data": {
      "image/png": "[encoded data removed]",
      "text/plain": [
       "<Figure size 432x288 with 1 Axes>"
      ]
     },
     "metadata": {
      "needs_background": "light"
     },
     "output_type": "display_data"
    }
   ],
   "source": [
    "# Another way of generating the distribution\n",
    "\n",
    "# Plot a histogram \n",
    "m, sd = 0.0, 1.0 # set the mean and standard deviation\n",
    "normal = np.random.normal(m, sd, 1000) # generate results and store in var normal\n",
    "\n",
    "# Plot using probability density function\n",
    "count, bins, ignored= plt.hist(normal, 20, density=True)\n",
    "plt.plot(bins, 1/(sd * np.sqrt(2 * np.pi)) * np.exp( - (bins - m)**2 / (2 * sd**2) ),linewidth=2, color='r')\n",
    "plt.show()"
   ]
  },
  {
   "cell_type": "markdown",
   "metadata": {},
   "source": [
    "#### Task 3.2 - Binomial Distribution"
   ]
  },
  {
   "cell_type": "markdown",
   "metadata": {},
   "source": [
    "In statistics, the binomial distribution is used when finding the probability of success of an event that has only two possible outcomes, i.e. flipping of a coin. This can be used with packages such as seaborn to generate nice graphs and scipy can be used when creating the binomial distribution. \n",
    "\n",
    "When thinking of a binominal distribution we can think of two assumptions, the first is that the probability of either success or failure should remain the same across events and that that one event is completely independent from other outcomes. The parameters that are used in a binomial distribution are “n”(total number of trials) and “p”(probability of success in each trial).  (Tutorialspoint.com, 2019). \n",
    "\n",
    "The probability density is $$P(N) = \\binom{n}{N}p^N(1-p)^{n-N}$$\n",
    "\n",
    "\n",
    "\n"
   ]
  },
  {
   "cell_type": "code",
   "execution_count": 16,
   "metadata": {},
   "outputs": [
    {
     "name": "stdout",
     "output_type": "stream",
     "text": [
      "[3 4 3 3 3 4 2 2 1 2 2 4 0 2 3 3 3 0 4 0]\n"
     ]
    }
   ],
   "source": [
    "# numpy.random.binomial(n, p, size=None)¶\n",
    "\n",
    "\n",
    "# result of flipping a coin 5 times, tested 20 times.\n",
    "n, p = 5, .5  # number of trials, probability of each trial\n",
    "x = np.random.binomial(n, p, 20)\n",
    "print(x)"
   ]
  },
  {
   "cell_type": "code",
   "execution_count": 17,
   "metadata": {},
   "outputs": [
    {
     "data": {
      "text/plain": [
       "[Text(0, 0.5, 'Frequency'), Text(0.5, 0, 'Binomial Distribution')]"
      ]
     },
     "execution_count": 17,
     "metadata": {},
     "output_type": "execute_result"
    },
    {
     "data": {
      "image/png": "[encoded data removed]",
      "text/plain": [
       "<Figure size 432x288 with 1 Axes>"
      ]
     },
     "metadata": {
      "needs_background": "light"
     },
     "output_type": "display_data"
    }
   ],
   "source": [
    "# Generate discrete random variable using scipy.stats\n",
    "\n",
    "from scipy.stats import binom\n",
    "\n",
    "x = binom.rvs(n=10,p=0.8,size=10000)  # number of trials, probability of each trial, size\n",
    "ax = sns.distplot(x,color='green', hist_kws={\"linewidth\": 20,'alpha':1}) # Generate graph\n",
    "ax.set(xlabel='Binomial Distribution', ylabel='Frequency')"
   ]
  },
  {
   "cell_type": "markdown",
   "metadata": {},
   "source": [
    "#### Task 3.3 - Uniform distribution"
   ]
  },
  {
   "cell_type": "markdown",
   "metadata": {},
   "source": [
    "This is part of the NumPy package and is very helpful when dealing with arrays etc. It one of the simplest and most useful distribution as it can return floating point numbers (decimal numbers). Because any interval of numbers that are equal in width, have an equal probability of being observed and the distribution is shown as a rectangle. \n",
    "\n",
    "Samples are uniformly distributed over the half-open interval which means that low will be included, and high will be excluded. We can set the boundaries for low and high but if we choose not to low will equal zero and high will equal one. (Medium, 2019)\n",
    "\n",
    "\n",
    "The probability density function of the uniform distribution is $$p(x) = \\frac{1}{b - a}$$\n"
   ]
  },
  {
   "cell_type": "code",
   "execution_count": 18,
   "metadata": {},
   "outputs": [
    {
     "name": "stdout",
     "output_type": "stream",
     "text": [
      "[-0.00732683 -0.11965009 -0.50618328 -0.86386494 -0.14218118 -0.34412276\n",
      " -0.14339205 -0.37409433 -0.01213946 -0.51961034 -0.32137336 -0.42323203\n",
      " -0.48864186 -0.80958917 -0.10285156 -0.30313742 -0.76450843 -0.42782815\n",
      " -0.73513947 -0.01600074 -0.15058302 -0.3304928  -0.41332308 -0.02819596\n",
      " -0.04887596 -0.02597295 -0.18267839 -0.30429148 -0.91715336 -0.69216455\n",
      " -0.3301063  -0.23172164 -0.31251587 -0.00371934 -0.05290999 -0.63206678\n",
      " -0.40627341 -0.96614367 -0.78014976 -0.363614   -0.08737028 -0.98400468\n",
      " -0.31037165 -0.22623791 -0.97752352 -0.28903513 -0.43829699 -0.19038927\n",
      " -0.09303372 -0.05745114 -0.72751183 -0.80132229 -0.15810807 -0.51617114\n",
      " -0.91766324 -0.01353742 -0.01284186 -0.55260815 -0.13212311 -0.21746414\n",
      " -0.14126375 -0.31553826 -0.45099647 -0.71255739 -0.74328703 -0.54212192\n",
      " -0.80636622 -0.97978326 -0.21663307 -0.76489564 -0.73868714 -0.34296458\n",
      " -0.70674188 -0.26736086 -0.86688565 -0.82669558 -0.7347733  -0.32798483\n",
      " -0.40743005 -0.81115391 -0.96942832 -0.9517406  -0.07272941 -0.25132934\n",
      " -0.32802481 -0.15833599 -0.03785191 -0.43916362 -0.14944022 -0.91213351\n",
      " -0.82714381 -0.16374651 -0.95551259 -0.18441473 -0.52091798 -0.95736993\n",
      " -0.55939679 -0.42589132 -0.48572856 -0.1836387 ]\n"
     ]
    },
    {
     "data": {
      "image/png": "[encoded data removed]",
      "text/plain": [
       "<Figure size 432x288 with 1 Axes>"
      ]
     },
     "metadata": {
      "needs_background": "light"
     },
     "output_type": "display_data"
    }
   ],
   "source": [
    "# numpy.random.uniform(low=0.0, high=1.0, size=None)\n",
    "\n",
    "\n",
    "x = np.random.uniform(-1,0,100) # Low = -1, high = 0 , size = 100\n",
    "print(x) # Show array of 100 number between -1 and 0 as floating point numbers \n",
    "\n",
    "\n",
    "# Check if the numbers are within range\n",
    "np.all(x >= -1)\n",
    "True\n",
    "np.all(x < 0)\n",
    "True\n",
    "\n",
    "# Display a histogram\n",
    "count, bins, ignored = plt.hist(x, 15, density=True)\n",
    "plt.plot(bins, np.ones_like(bins), linewidth=2, color='r')\n",
    "plt.show()"
   ]
  },
  {
   "cell_type": "markdown",
   "metadata": {},
   "source": [
    "#### Task 3.4 - Poisson Distribution"
   ]
  },
  {
   "cell_type": "markdown",
   "metadata": {},
   "source": [
    "The Poisson distribution will display the amount of times that any one event will occur within a time frame. This distribution can do interesting things such as finding the probability of X number of events that will have in a time frame or how long will the wait time between events be. \n",
    "\n",
    "The Poisson distribution is a discrete function so this means that the variable can only be measured using whole numbers, ie number of email received in a specific time frame, amount of phone calls received etc. (DataCamp Community, 2019)\n",
    "\n",
    "The Poisson distribution\n",
    "\n",
    "$$f(k; \\lambda)=\\frac{\\lambda^k e^{-\\lambda}}{k!}$$\n",
    "\n",
    "According to (Docs.scipy.org, 2019) _\"For events with an expected separation \\lambda the Poisson distribution f(k; \\lambda) describes the probability of k events occurring within the observed interval \\lambda.\"_"
   ]
  },
  {
   "cell_type": "code",
   "execution_count": 19,
   "metadata": {},
   "outputs": [],
   "source": [
    "# numpy.random.poisson(lam=1.0, size=None)\n",
    "\n",
    "# Size is optional\n",
    "# Lam is a float or array of floats and should be greater than or equal to zero\n",
    "\n",
    "x = np.random.poisson(3, 50)# Create an array of 50 elements but wont work due to negative lam\n",
    "\n",
    "y = np.random.poisson(lam=(100., 500.), size=(100, 2)) "
   ]
  },
  {
   "cell_type": "code",
   "execution_count": 20,
   "metadata": {
    "scrolled": false
   },
   "outputs": [
    {
     "data": {
      "image/png": "[encoded data removed]",
      "text/plain": [
       "<Figure size 432x288 with 1 Axes>"
      ]
     },
     "metadata": {
      "needs_background": "light"
     },
     "output_type": "display_data"
    },
    {
     "data": {
      "image/png": "[encoded data removed]",
      "text/plain": [
       "<Figure size 432x288 with 1 Axes>"
      ]
     },
     "metadata": {
      "needs_background": "light"
     },
     "output_type": "display_data"
    }
   ],
   "source": [
    "count, bins, ignored = plt.hist(x, 16, density=True)\n",
    "plt.show()\n",
    "\n",
    "count, bins, ignored = plt.hist(y, 16, density=True)\n",
    "plt.show()"
   ]
  },
  {
   "cell_type": "markdown",
   "metadata": {},
   "source": [
    "#### Task 3.5 - Exponential distribution"
   ]
  },
  {
   "cell_type": "markdown",
   "metadata": {},
   "source": [
    "The exponential distribution is a continuous distributions and is regularly used to predict the amount of time that elapses between events. The function accepts two arguments, first is the scale which is the rate at which events decline. The second is size and this is the number of events.\n",
    "\n",
    "One example of this could be a book store, how long does it take for a customer to search and buy what they are looking for. Another example would be the amount of time we would have to wait before the next bus arrives.\n",
    "\n",
    "Its probability density function is $$f(x; \\frac{1}{\\beta}) = \\frac{1}{\\beta} \\exp(-\\frac{x}{\\beta})$$\n",
    "\n",
    "According to (Docs.scipy.org, 2019) _\"for x > 0 and 0 elsewhere. \\beta is the scale parameter, which is the inverse of the rate parameter \\lambda = 1/\\beta. The rate parameter is an alternative, widely used parameterization of the exponential distribution\"_\n",
    "\n",
    "\n"
   ]
  },
  {
   "cell_type": "code",
   "execution_count": 21,
   "metadata": {},
   "outputs": [
    {
     "data": {
      "text/plain": [
       "array([ 9.00883213,  5.38787481,  3.76182978,  3.69483787,  5.19605341,\n",
       "        6.91822705,  5.57162999,  7.38300567,  4.87397112,  3.15899286,\n",
       "        6.83283385,  7.14748   ,  7.21118606,  2.9700531 ,  5.54648837,\n",
       "        4.73339268,  3.06594968,  5.83700864,  2.96731229,  7.4025803 ,\n",
       "        2.33658689,  8.74545101,  5.06944019,  4.17085471,  3.77453403,\n",
       "        6.94911598, 13.06173745,  3.4662679 ,  6.5339552 ,  4.61940288,\n",
       "        6.67810054,  9.46331673,  5.08488229,  3.69706522,  4.25551048,\n",
       "        6.54224912,  4.0403439 ,  6.63577351,  4.13943752,  2.50974419,\n",
       "        2.92171287, 10.33796164,  4.27319958,  3.83746164,  5.4903024 ,\n",
       "        2.82105121,  6.94465481,  6.2170143 ,  4.06408233,  1.26049805,\n",
       "        3.06853452,  6.44997856,  4.56928562,  7.2345325 ,  5.81031232,\n",
       "        7.27206591,  8.44412868,  5.28406638, 10.174276  ,  3.53586933,\n",
       "        3.28966233,  4.43542495,  2.69531699,  5.43438831,  3.63824907,\n",
       "        4.12716412,  6.35053882,  3.1456305 ,  1.46549812,  5.50948818,\n",
       "        3.76626019,  2.9015435 ,  6.12947888,  3.64931928,  5.12585954,\n",
       "        4.13014966,  4.65444281,  9.88531361, 11.17520355,  2.58993061,\n",
       "        4.33832901,  7.79771874,  2.71335033,  2.71033534,  5.34179695,\n",
       "        6.53285067,  3.52645696,  5.10497319,  7.60967226,  3.30511336,\n",
       "        4.19339631,  5.86930749,  5.09986055,  5.12642844,  3.96960424,\n",
       "        1.95572166,  2.87506608,  3.48860057,  3.48020645,  3.07810454])"
      ]
     },
     "execution_count": 21,
     "metadata": {},
     "output_type": "execute_result"
    }
   ],
   "source": [
    "# numpy.random.exponential(scale=1.0, size=None)\n",
    "\n",
    "import numpy.random as npr # Import the random library\n",
    "npr.exponential(scale=1,size=(100,5)).sum(axis=1)"
   ]
  },
  {
   "cell_type": "code",
   "execution_count": 22,
   "metadata": {},
   "outputs": [
    {
     "data": {
      "image/png": "[encoded data removed]",
      "text/plain": [
       "<Figure size 432x288 with 1 Axes>"
      ]
     },
     "metadata": {
      "needs_background": "light"
     },
     "output_type": "display_data"
    }
   ],
   "source": [
    "# Display graph that inputs has a scal of 20 and size is 1000\n",
    "plt.show(plt.hist(np.random.exponential(20, 1000)))"
   ]
  },
  {
   "cell_type": "markdown",
   "metadata": {},
   "source": [
    "## Task 4 : Explain the use of seeds in generating pseudorandom numbers."
   ]
  },
  {
   "cell_type": "markdown",
   "metadata": {},
   "source": [
    "We all know that computers operate by a set of rules which makes them predictable and in turn makes it is difficult to generate truly random numbers. The Pseudo Random Number Generator (PRNG) refers to an algorithm that uses mathematics when displaying a sequence of random numbers and starts from an arbitrary starting state using a seed state. PRNG is a technique that was developed for computers to generate random numbers, is very efficient and can produce high volumes of numbers in a short period. When the starting point in a sequence is known PRNG can reproduce a sequence at a point which can be useful. PRNG is also periodic which means that eventually the sequence of numbers will repeat.(do? et al., 2019)\n",
    "\n",
    "The seed is the first number that is passed, it is the starting point the number generation sequence. As I mentioned above this can produce the same sequence of random numbers and because of this it can be useful for different activities, for example, testing a new algorithm when we want the same sequence of random numbers. Basically each time a seed is set, a reference will be created and the next time a call is made to the same seed it will generate the same result.(do? et al., 2019)\n",
    "\n",
    "\n",
    "\n"
   ]
  },
  {
   "cell_type": "code",
   "execution_count": 27,
   "metadata": {},
   "outputs": [
    {
     "name": "stdout",
     "output_type": "stream",
     "text": [
      "Random number with seed =  75\n",
      "Random number with seed =  75\n",
      "Random number with seed =  75\n",
      "Random number with seed =  75\n",
      "Random number with seed =  75\n",
      "Random number with seed =  75\n",
      "\n",
      "\n",
      "Random number with seed =  293\n",
      "Random number with seed =  293\n",
      "Random number with seed =  293\n",
      "Random number with seed =  293\n",
      "Random number with seed =  293\n",
      "Random number with seed =  293\n"
     ]
    }
   ],
   "source": [
    "# View the below example to demenstrate the same output\n",
    "# random module is imported \n",
    "\n",
    "import random  \n",
    "for i in range(6): # Use a loop to display six numbers\n",
    "    random.seed(100) # Set the random seed\n",
    "    print(\"Random number with seed = \", random.randint(1, 500))  # Generated number between 1 to 500. \n",
    "\n",
    "print(\"\\n\")\n",
    "    \n",
    "import random  \n",
    "for i in range(6): # Use a loop to display six numbers\n",
    "    random.seed(10) # Set the random seed\n",
    "    print(\"Random number with seed = \", random.randint(1, 500))  # Generated number between 1 to 500. "
   ]
  },
  {
   "cell_type": "code",
   "execution_count": 29,
   "metadata": {},
   "outputs": [
    {
     "name": "stdout",
     "output_type": "stream",
     "text": [
      "Random number with seed =  75\n",
      "Random number with seed =  75\n",
      "\n",
      "\n",
      "Random number without seed =  236\n",
      "Random number without seed =  233\n"
     ]
    }
   ],
   "source": [
    "# The seed must be set before random is executed and if not the seed wont be used. See example below\n",
    "\n",
    "# Use the seed twice to print the same number\n",
    "# Note, I used 100 for my seed as I did above and the number generated is the same. This proves that computers are deterministic\n",
    "random.seed(100)   \n",
    "print(\"Random number with seed = \", random.randint(1, 500)) \n",
    "\n",
    "random.seed(100) \n",
    "print(\"Random number with seed = \", random.randint(1, 500)) \n",
    "\n",
    "\n",
    "print(\"\\n\")\n",
    "\n",
    "\n",
    "# Below I have not used the seed so the outputs should be different \n",
    "print(\"Random number without seed = \", random.randint(1, 500)) \n",
    "print(\"Random number without seed = \", random.randint(1, 500)) \n",
    "\n"
   ]
  },
  {
   "cell_type": "code",
   "execution_count": null,
   "metadata": {},
   "outputs": [],
   "source": []
  }
 ],
 "metadata": {
  "kernelspec": {
   "display_name": "Python 3",
   "language": "python",
   "name": "python3"
  },
  "language_info": {
   "codemirror_mode": {
    "name": "ipython",
    "version": 3
   },
   "file_extension": ".py",
   "mimetype": "text/x-python",
   "name": "python",
   "nbconvert_exporter": "python",
   "pygments_lexer": "ipython3",
   "version": "3.7.3"
  }
 },
 "nbformat": 4,
 "nbformat_minor": 2
}
