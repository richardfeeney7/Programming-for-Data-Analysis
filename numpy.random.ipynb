{
 "cells": [
  {
   "cell_type": "markdown",
   "metadata": {},
   "source": [
    "# Programming-for-Data-Analysis"
   ]
  },
  {
   "cell_type": "markdown",
   "metadata": {},
   "source": [
    "## Task 1 : Explain the overall purpose of the package"
   ]
  },
  {
   "cell_type": "markdown",
   "metadata": {},
   "source": [
    "_NumPy, short for Numerical Python, is a Python library. It is a fundamental Python package that is used for scientific \n",
    "computing.  According to (Docs.scipy.org, 2019), “NumPy provides a multidimensional array object, various derived objects \n",
    "(such as masked arrays and matrices), and an assortment of routines for fast operations on arrays, including mathematical, \n",
    "logical, shape manipulation, sorting, selecting, I/O, discrete Fourier transforms, basic linear algebra, basic statistical \n",
    "operations, random simulation and much more”. Bacially what this means is that NumPy is very fast dealing with numbers that are in list or multidimensional arrays (lists within lists). We can think of an array as a collection of elements that are of the same \n",
    "type and can store one of more values within a single variable. NumPy when used with packages such as Pandas and \n",
    "Matplotlib also us to visually see graph and statistics._\n",
    "\n",
    "\n",
    "_With regards to numpy.random, this is a sub-package of numpy package in Python. While working with simulations the ability \n",
    "to generate random numbers is required. According to (Subscription.packtpub.com, 2019) “It uses a particular algorithm, \n",
    "called the Mersenne Twister, to generate pseudorandom numbers”. When we think of the word random we would assume that the data that is generated would be completely random but with Python this is not the case in the scientific sense of the word as a pseudorandom number generator (PRNG) is essentially an algorithm for generating seemingly random but still reproducible data._  \n"
   ]
  },
  {
   "cell_type": "markdown",
   "metadata": {},
   "source": [
    "## Task 2 : Explain the use of the “Simple random data” and “Permutations” functions"
   ]
  },
  {
   "cell_type": "markdown",
   "metadata": {},
   "source": [
    "'Simple random data'\n",
    "Simple random data will generate random values that depend on the function selected. The NumPy manual states ten functions for Random Sampling of Simple random data in; uniform, uniform sample, discrete uniform, continuous uniform and standard normal distributions. \n"
   ]
  },
  {
   "cell_type": "code",
   "execution_count": 2,
   "metadata": {},
   "outputs": [],
   "source": [
    "# Import libaries\n",
    "\n",
    "import numpy as np\n",
    "from numpy import random\n",
    "import seaborn as sns"
   ]
  },
  {
   "cell_type": "code",
   "execution_count": 5,
   "metadata": {},
   "outputs": [
    {
     "data": {
      "text/plain": [
       "array([[ 0.96179996, -1.37338223, -0.18236201, -0.42367765],\n",
       "       [ 0.47240075,  0.01593004,  1.16579285, -0.51889379]])"
      ]
     },
     "execution_count": 5,
     "metadata": {},
     "output_type": "execute_result"
    }
   ],
   "source": [
    "# Create a two dimensional random array\n",
    "np.random.randn(2,4)\n"
   ]
  },
  {
   "cell_type": "code",
   "execution_count": 6,
   "metadata": {},
   "outputs": [
    {
     "data": {
      "text/plain": [
       "array([[[0.17134023, 0.46424305, 0.98425218],\n",
       "        [0.46729693, 0.44868858, 0.61383731]],\n",
       "\n",
       "       [[0.9358418 , 0.15607926, 0.08409828],\n",
       "        [0.397695  , 0.13498303, 0.12878482]],\n",
       "\n",
       "       [[0.86287313, 0.85286445, 0.09275646],\n",
       "        [0.93081339, 0.36186049, 0.74235605]]])"
      ]
     },
     "execution_count": 6,
     "metadata": {},
     "output_type": "execute_result"
    }
   ],
   "source": [
    "# Create a three dimensional random array\n",
    "np.random.rand(3,2, 3)"
   ]
  },
  {
   "cell_type": "code",
   "execution_count": null,
   "metadata": {},
   "outputs": [],
   "source": []
  }
 ],
 "metadata": {
  "kernelspec": {
   "display_name": "Python 3",
   "language": "python",
   "name": "python3"
  },
  "language_info": {
   "codemirror_mode": {
    "name": "ipython",
    "version": 3
   },
   "file_extension": ".py",
   "mimetype": "text/x-python",
   "name": "python",
   "nbconvert_exporter": "python",
   "pygments_lexer": "ipython3",
   "version": "3.7.3"
  }
 },
 "nbformat": 4,
 "nbformat_minor": 2
}
