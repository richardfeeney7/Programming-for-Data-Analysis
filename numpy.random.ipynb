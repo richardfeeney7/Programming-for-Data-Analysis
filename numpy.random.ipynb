{
 "cells": [
  {
   "cell_type": "markdown",
   "metadata": {},
   "source": [
    "# Programming-for-Data-Analysis"
   ]
  },
  {
   "cell_type": "markdown",
   "metadata": {},
   "source": [
    "## Task 1 : Explain the overall purpose of the package"
   ]
  },
  {
   "cell_type": "markdown",
   "metadata": {},
   "source": [
    "NumPy, short for Numerical Python, is a Python library. It is a fundamental Python package that is used for scientific \n",
    "computing.  According to (Docs.scipy.org, 2019), _“NumPy provides a multidimensional array object, various derived objects \n",
    "(such as masked arrays and matrices), and an assortment of routines for fast operations on arrays, including mathematical, \n",
    "logical, shape manipulation, sorting, selecting, I/O, discrete Fourier transforms, basic linear algebra, basic statistical \n",
    "operations, random simulation and much more”._ Basically what this means is that NumPy is very fast dealing with numbers that are in the list or multidimensional arrays (lists within lists). We can think of an array as a collection of elements that are of the same type and can store one or more values within a single variable. NumPy when used with packages such as Pandas and Matplotlib also us to visually see graphs and statistics.\n",
    "\n",
    "\n",
    "With regards to numpy.random, this is a sub-package of numpy package in Python. While working with simulations the ability to generate random numbers is required. According to (Subscription.packtpub.com, 2019) _“It uses a particular algorithm, \n",
    "called the Mersenne Twister, to generate pseudorandom numbers”._ When we think of the word random we would assume that the data that is generated would be completely random but with Python, this is not the case in the scientific sense of the word as a pseudorandom number generator (PRNG) is essentially an algorithm for generating seemingly random but still reproducible data. \n"
   ]
  },
  {
   "cell_type": "markdown",
   "metadata": {},
   "source": [
    "## Task 2 : Explain the use of the “Simple random data” and “Permutations” functions\n",
    "\n",
    "#### Task 2.1 : Explain the use of “Simple random data” "
   ]
  },
  {
   "cell_type": "markdown",
   "metadata": {},
   "source": [
    "A simple random sample can be defined as a subset of a statistical population where its members have equal probability to be chosen. Simple random data will generate random values that depend on the function selected. The main functions of Random Sampling are uniform, uniform sample, discrete uniform, continuous uniform, and standard normal distributions. \n",
    "\n",
    "#### numpy.random uses many different functions that I will explain below."
   ]
  },
  {
   "cell_type": "code",
   "execution_count": 1,
   "metadata": {},
   "outputs": [],
   "source": [
    "# Import the libaries needed \n",
    "\n",
    "import numpy as np\n",
    "import matplotlib.pyplot as plt\n",
    "%matplotlib inline\n",
    "import seaborn as sns"
   ]
  },
  {
   "cell_type": "code",
   "execution_count": 2,
   "metadata": {},
   "outputs": [
    {
     "name": "stdout",
     "output_type": "stream",
     "text": [
      "1D Array\n",
      " [0.57479422 0.54080242 0.20646789] \n",
      "\n",
      "2D Array\n",
      " [[0.01327614 0.44928679 0.65482366 0.59789038 0.88455132 0.64289004]\n",
      " [0.60207032 0.4634218  0.90226657 0.29044785 0.87296788 0.27190308]\n",
      " [0.09134323 0.22366606 0.84426386 0.05947027 0.45969371 0.58219951]] \n",
      "\n",
      "3D Array\n",
      " [[[0.66190529 0.86243372 0.19573502 0.06016954 0.63470496 0.14821269\n",
      "   0.14559748]\n",
      "  [0.96780925 0.01680568 0.95241999 0.02011947 0.4937835  0.63959394\n",
      "   0.4621106 ]]\n",
      "\n",
      " [[0.65327249 0.26101667 0.47519511 0.57352029 0.54354899 0.39972808\n",
      "   0.96224194]\n",
      "  [0.84619118 0.01667372 0.2356378  0.20409958 0.36921525 0.82221657\n",
      "   0.01589063]]\n",
      "\n",
      " [[0.14468839 0.81307227 0.74446304 0.44943089 0.24117316 0.4549386\n",
      "   0.53289533]\n",
      "  [0.99398174 0.54594944 0.6992254  0.17119638 0.38650768 0.90979397\n",
      "   0.52571613]]] \n",
      "\n"
     ]
    }
   ],
   "source": [
    "# Example of simply random data using numpy.random.rand using different array sizes\n",
    "\n",
    "'''\n",
    "numpy.random.rand (d0, d1, …, dn)\n",
    "\n",
    "    * Generates an array of a specified shape and fills the shape with random values\n",
    "    * Uses uniform distribution over\n",
    "    * A uniform distribution is one in which all values are equally likely with the set range. For example, a distribution \n",
    "      from zero to ten, the values from 2 to 3 have a 10% probability as do values from 3 to 5.\n",
    "'''\n",
    "\n",
    "# 1D Array \n",
    "print(\"1D Array\\n\",np.random.rand(3),\"\\n\")\n",
    "\n",
    "# 2D Array\n",
    "# Output an array that has an array within it.\n",
    "print(\"2D Array\\n\",np.random.rand(3,6),\"\\n\")\n",
    "\n",
    "# 3D Array\n",
    "# Output an array that is an array of arrays of arrays.\n",
    "print(\"3D Array\\n\",np.random.rand(3,2,7),\"\\n\")\n"
   ]
  },
  {
   "cell_type": "code",
   "execution_count": 3,
   "metadata": {},
   "outputs": [
    {
     "name": "stdout",
     "output_type": "stream",
     "text": [
      "1D Array\n",
      " [ 0.72246756 -0.59351232 -0.54334244] \n",
      "\n",
      "2D Array\n",
      " [[-0.28880971 -0.89552307 -0.30253234 -0.29407343]\n",
      " [-0.62603506 -0.29722656  1.05047436 -0.28449055]\n",
      " [-0.10277805  0.66902957 -0.88785972 -0.83523231]] \n",
      "\n",
      "3D Array\n",
      " [[[-6.49581377e-01 -1.22079396e+00 -1.62794400e+00]\n",
      "  [ 1.86831560e+00  3.32955985e-01  9.00735132e-01]\n",
      "  [-5.69566174e-01 -4.69164369e-01 -1.39837152e+00]\n",
      "  [ 1.33422632e-01  4.16064623e-01  1.21565468e+00]]\n",
      "\n",
      " [[ 2.89500344e+00 -8.62867722e-04  1.46087901e-01]\n",
      "  [ 7.41158876e-01 -3.74978041e-02 -7.13053385e-01]\n",
      "  [-6.26434135e-01  6.35230455e-01  2.92751305e+00]\n",
      "  [ 9.69891232e-01 -3.41656346e-01 -6.46662142e-01]]\n",
      "\n",
      " [[-2.20597318e+00  7.21514165e-01 -5.31740012e-01]\n",
      "  [ 1.16545370e+00 -2.51647974e-02  1.05393234e+00]\n",
      "  [-8.36722835e-01 -3.71537570e-01 -3.24879213e-01]\n",
      "  [-1.74087341e+00  6.48223287e-02 -7.34410447e-01]]] \n",
      "\n",
      "2D Array\n",
      " [[ 0.30085943 -2.03041374 -2.11360364  0.27381044]\n",
      " [ 0.83304877  0.36104376  1.55862707 -1.36369248]\n",
      " [-0.28201869 -0.13782119 -1.20362264  1.04034615]] \n",
      "\n",
      "\n",
      "Array * 2 : \n",
      " [[ 0.60171886 -4.06082748 -4.22720727  0.54762089]\n",
      " [ 1.66609754  0.72208752  3.11725415 -2.72738495]\n",
      " [-0.56403738 -0.27564237 -2.40724528  2.0806923 ]]\n",
      "\n",
      "Array ** 2 : \n",
      " [[0.0905164  4.12257995 4.46732033 0.07497216]\n",
      " [0.69397026 0.1303526  2.42931835 1.85965717]\n",
      " [0.07953454 0.01899468 1.44870745 1.08232012]]\n"
     ]
    }
   ],
   "source": [
    "'''\n",
    "numpy.random.randn(d0, d1, ..., dn)\n",
    "\n",
    "    * Generates an array of a specified shape and fills the shape with random values \n",
    "    * Uses normal distribution.\n",
    "    * A normal distribution is when vales cluster around the average\n",
    "    * Possible to manipulate array.\n",
    "'''\n",
    "\n",
    "# 1D Array \n",
    "randn_array1D = np.random.randn(3)\n",
    "print(\"1D Array\\n\",randn_array1D,\"\\n\")\n",
    "\n",
    "# 2D Array\n",
    "# Output an array that has an array within it.\n",
    "randn_array2D = np.random.randn(3,4)\n",
    "print(\"2D Array\\n\",randn_array2D,\"\\n\")\n",
    " \n",
    "# 3D Array\n",
    "# Output an array that is an array of arrays of arrays.\n",
    "randn_array3D = np.random.randn(3,4,3)\n",
    "print(\"3D Array\\n\",randn_array3D,\"\\n\")\n",
    "\n",
    "\n",
    "# Manipulation of 2D array\n",
    "\n",
    "# 2D Array\n",
    "randn_array2D = np.random.randn(3,4)\n",
    "print(\"2D Array\\n\",randn_array2D,\"\\n\")\n",
    "       \n",
    "# Dividing values with 2. Adding, subtracting and dividing following a similar format. \n",
    "print(\"\\nArray * 2 : \\n\", randn_array2D *2)\n",
    "\n",
    "#  Find array2d ** 2. \n",
    "print(\"\\nArray ** 2 : \\n\", randn_array2D **2)\n",
    "\n",
    " "
   ]
  },
  {
   "cell_type": "code",
   "execution_count": 4,
   "metadata": {},
   "outputs": [
    {
     "name": "stdout",
     "output_type": "stream",
     "text": [
      "1D Array:\n",
      " [5 4 4 2 2 4 3 2 2] \n",
      "\n",
      "2D Array:\n",
      " [[5 2 3]\n",
      " [3 4 5]\n",
      " [2 4 4]\n",
      " [5 5 2]\n",
      " [2 5 3]\n",
      " [5 2 4]\n",
      " [3 4 5]\n",
      " [5 4 2]\n",
      " [5 4 4]] \n",
      "\n",
      "3D Array:\n",
      " [[[2 5]\n",
      "  [4 5]\n",
      "  [3 2]]\n",
      "\n",
      " [[3 4]\n",
      "  [2 2]\n",
      "  [2 2]]\n",
      "\n",
      " [[5 5]\n",
      "  [2 2]\n",
      "  [4 5]]\n",
      "\n",
      " [[5 4]\n",
      "  [3 3]\n",
      "  [5 2]]\n",
      "\n",
      " [[5 3]\n",
      "  [3 2]\n",
      "  [2 2]]\n",
      "\n",
      " [[4 2]\n",
      "  [2 2]\n",
      "  [4 2]]\n",
      "\n",
      " [[2 5]\n",
      "  [2 4]\n",
      "  [5 5]]\n",
      "\n",
      " [[2 5]\n",
      "  [4 5]\n",
      "  [2 3]]\n",
      "\n",
      " [[3 2]\n",
      "  [3 4]\n",
      "  [2 3]]] \n",
      "\n"
     ]
    }
   ],
   "source": [
    "'''\n",
    "numpy.random.randint(low, high=None, size=None, dtype='l')\n",
    "\n",
    "    * Generates and returns random integers. The returned array will be fitter with random numbers from low(inclusive) to \n",
    "      high (exclusive).\n",
    "    * The default value for dtype is np.int.\n",
    "\n",
    "'''\n",
    "\n",
    "# 1D Array\n",
    "# Lowest number will be and including 2 , highest number upto not including 6, 9 values will be displayed in the array\n",
    "randint_array1D = np.random.randint(low = 2, high = 6, size = 9) \n",
    "print (\"1D Array:\\n\",randint_array1D, \"\\n\")  \n",
    "\n",
    "# 2D Array\n",
    "# Output an array that has an array within it. \n",
    "randint_array2D = np.random.randint(low = 2, high = 6, size = (9, 3))\n",
    "print (\"2D Array:\\n\",randint_array2D, \"\\n\") \n",
    "\n",
    "# 3D Array\n",
    "# Output an array that is an array of arrays of arrays.\n",
    "randint_array3D = np.random.randint(low = 2, high = 6, size = (9, 3, 2))\n",
    "print (\"3D Array:\\n\",randint_array3D, \"\\n\") \n"
   ]
  },
  {
   "cell_type": "code",
   "execution_count": 5,
   "metadata": {},
   "outputs": [
    {
     "name": "stdout",
     "output_type": "stream",
     "text": [
      "1D Array:\n",
      " [4 6 4 4 6 6 2 2 5] \n",
      "\n",
      "2D Array:\n",
      " [[4 2 5]\n",
      " [6 6 2]\n",
      " [6 2 6]\n",
      " [5 5 3]\n",
      " [3 2 4]\n",
      " [2 5 3]\n",
      " [4 4 4]\n",
      " [2 4 4]\n",
      " [2 3 2]] \n",
      "\n",
      "3D Array:\n",
      " [[[3 5]\n",
      "  [5 3]\n",
      "  [5 2]]\n",
      "\n",
      " [[2 5]\n",
      "  [4 2]\n",
      "  [5 5]]\n",
      "\n",
      " [[3 3]\n",
      "  [3 5]\n",
      "  [5 3]]\n",
      "\n",
      " [[5 3]\n",
      "  [4 6]\n",
      "  [2 6]]\n",
      "\n",
      " [[3 5]\n",
      "  [2 2]\n",
      "  [4 6]]\n",
      "\n",
      " [[3 6]\n",
      "  [4 4]\n",
      "  [5 2]]\n",
      "\n",
      " [[4 6]\n",
      "  [5 2]\n",
      "  [2 2]]\n",
      "\n",
      " [[3 4]\n",
      "  [4 6]\n",
      "  [3 4]]\n",
      "\n",
      " [[4 4]\n",
      "  [6 4]\n",
      "  [3 5]]] \n",
      "\n"
     ]
    },
    {
     "name": "stderr",
     "output_type": "stream",
     "text": [
      "C:\\Users\\richa\\Anaconda3\\lib\\site-packages\\ipykernel_launcher.py:11: DeprecationWarning: This function is deprecated. Please call randint(2, 6 + 1) instead\n",
      "  # This is added back by InteractiveShellApp.init_path()\n",
      "C:\\Users\\richa\\Anaconda3\\lib\\site-packages\\ipykernel_launcher.py:16: DeprecationWarning: This function is deprecated. Please call randint(2, 6 + 1) instead\n",
      "  app.launch_new_instance()\n",
      "C:\\Users\\richa\\Anaconda3\\lib\\site-packages\\ipykernel_launcher.py:21: DeprecationWarning: This function is deprecated. Please call randint(2, 6 + 1) instead\n"
     ]
    }
   ],
   "source": [
    "'''\n",
    "numpy.random.random_integers(low, high=None, size=None)\n",
    "    \n",
    "    * Please note that this function has been deprecated and tge recommendation is to use randint.\n",
    "    * Generates and returns an array of specified shape and fills it with random integers from low (inclusive) to \n",
    "      high (exclusive)\n",
    "'''\n",
    "\n",
    "# 1D Array\n",
    "# Lowest number will be and including 2 , highest number upto not including 6, 9 values will be displayed in the array\n",
    "random_integers_array1D = np.random.random_integers(low = 2, high = 6, size = 9) \n",
    "print (\"1D Array:\\n\",random_integers_array1D, \"\\n\")  \n",
    "\n",
    "# 2D Array\n",
    "# Output an array that has an array within it.\n",
    "random_integers_array2D = np.random.random_integers(low = 2, high = 6, size = (9, 3))\n",
    "print (\"2D Array:\\n\",random_integers_array2D, \"\\n\") \n",
    "\n",
    "# 3D Array\n",
    "# Output an array that is an array of arrays of arrays.\n",
    "random_integers_array3D = np.random.random_integers(low = 2, high = 6, size = (9, 3, 2))\n",
    "print (\"3D Array:\\n\",random_integers_array3D, \"\\n\") \n"
   ]
  },
  {
   "cell_type": "code",
   "execution_count": 6,
   "metadata": {},
   "outputs": [
    {
     "name": "stdout",
     "output_type": "stream",
     "text": [
      "1D Array:\n",
      " 0.3122505412945493 \n",
      "\n",
      "2D Array:\n",
      " [[0.15476187 0.96623392 0.64062787]] \n",
      "\n",
      "3D Array:\n",
      " [[[0.63451627]\n",
      "  [0.35225277]]\n",
      "\n",
      " [[0.37488546]\n",
      "  [0.75475149]]\n",
      "\n",
      " [[0.61573297]\n",
      "  [0.55963567]]] \n",
      "\n"
     ]
    }
   ],
   "source": [
    "'''\n",
    "numpy.random.random_sample(size=None)\n",
    "\n",
    "    * A function for random sampling in numpy. The function will return an array and fill it with random floats.\n",
    "    * The results will be in from a continuous uniform distribution over the stated interval.\n",
    "'''\n",
    "\n",
    "# 1D Array\n",
    "# Output random Float number\n",
    "random_sample_array1D = np.random.random_sample()\n",
    "print (\"1D Array:\\n\",random_sample_array1D, \"\\n\")\n",
    "\n",
    "# 2D Array\n",
    "# Output an array that has an array within it.\n",
    "random_sample_array2D = np.random.random_sample(size =(1, 3))\n",
    "print (\"2D Array:\\n\",random_sample_array2D, \"\\n\") \n",
    "\n",
    "# 3D Array\n",
    "# Output an array that is an array of arrays of arrays.\n",
    "random_sample_array3D = np.random.random_sample((3, 2, 1))\n",
    "print (\"3D Array:\\n\",random_sample_array3D, \"\\n\") "
   ]
  },
  {
   "cell_type": "code",
   "execution_count": 7,
   "metadata": {},
   "outputs": [
    {
     "name": "stdout",
     "output_type": "stream",
     "text": [
      "1D Array:\n",
      " [0.09384404 0.10117565 0.6906904  0.22945483 0.50769572] \n",
      "\n",
      "2D Array:\n",
      " [[0.35781487 0.36346121 0.99367102 0.94637966]\n",
      " [0.35509602 0.68608843 0.89093231 0.99855353]] \n",
      "\n",
      "3D Array:\n",
      " [[[0.75886715 0.72405226]\n",
      "  [0.97666954 0.08466363]\n",
      "  [0.28424193 0.0720674 ]\n",
      "  [0.5972236  0.00267553]]\n",
      "\n",
      " [[0.65994068 0.29144136]\n",
      "  [0.32521859 0.31435281]\n",
      "  [0.88760512 0.61490088]\n",
      "  [0.27117607 0.99621666]]] \n",
      "\n"
     ]
    }
   ],
   "source": [
    "'''\n",
    "numpy.random.random(size=None)\n",
    "\n",
    "    * Also function for doing random sampling.\n",
    "    * The results will be in from a continuous uniform distribution over the stated interval.\n",
    "'''\n",
    "\n",
    "# 1D Array\n",
    "# Output five random Float numbers\n",
    "random_random_array1D = np.random.random(size = 5)\n",
    "print (\"1D Array:\\n\",random_random_array1D, \"\\n\")\n",
    "\n",
    "# 2D Array\n",
    "# Output an array that has an array within it.\n",
    "random_random_array2D = np.random.random(size =(2, 4))\n",
    "print (\"2D Array:\\n\",random_random_array2D, \"\\n\") \n",
    "\n",
    "# 3D Array\n",
    "# Output an array that is an array of arrays of arrays.\n",
    "random_random_array3D = np.random.random((2, 4, 2))\n",
    "print (\"3D Array:\\n\",random_random_array3D, \"\\n\") \n"
   ]
  },
  {
   "cell_type": "code",
   "execution_count": 8,
   "metadata": {},
   "outputs": [
    {
     "name": "stdout",
     "output_type": "stream",
     "text": [
      "1D Array:\n",
      " 0.3723585897702594 \n",
      "\n",
      "2D Array:\n",
      " [[0.90618855 0.4676533  0.8263732  0.45149175]\n",
      " [0.1405812  0.52477114 0.30272295 0.59938696]] \n",
      "\n",
      "3D Array:\n",
      " [[[4.42705244e-01 3.65939366e-01]\n",
      "  [5.18127567e-01 3.86661939e-01]\n",
      "  [5.86398686e-01 6.05066959e-01]\n",
      "  [1.16802757e-01 8.64433527e-01]]\n",
      "\n",
      " [[4.77749804e-04 1.64388181e-01]\n",
      "  [5.58159828e-01 1.21520001e-01]\n",
      "  [7.95766277e-01 3.58606529e-01]\n",
      "  [5.30118268e-02 1.86915005e-01]]] \n",
      "\n"
     ]
    }
   ],
   "source": [
    "''''\n",
    "numpy.random.ranf(size=None)\n",
    "\n",
    "    * Also function for doing random sampling.\n",
    "    * The results will be in from a continuous uniform distribution over the stated interval.\n",
    "'''\n",
    "\n",
    "\n",
    "# 1D Array\n",
    "# Output random Float number\n",
    "random_ranf_array1D = np.random.ranf()\n",
    "print (\"1D Array:\\n\",random_ranf_array1D, \"\\n\")\n",
    "\n",
    "# 2D Array\n",
    "# Output an array that has an array within it.\n",
    "random_ranf_array2D = np.random.ranf(size =(2, 4))\n",
    "print (\"2D Array:\\n\",random_ranf_array2D, \"\\n\") \n",
    "\n",
    "# 3D Array\n",
    "# Output an array that is an array of arrays of arrays.\n",
    "random_ranf_array3D = np.random.ranf((2, 4, 2))\n",
    "print (\"3D Array:\\n\",random_ranf_array3D, \"\\n\") "
   ]
  },
  {
   "cell_type": "code",
   "execution_count": 9,
   "metadata": {},
   "outputs": [
    {
     "name": "stdout",
     "output_type": "stream",
     "text": [
      "1D Array:\n",
      " [0.48790767 0.90913456 0.20595368 0.89885546 0.99505987] \n",
      "\n",
      "2D Array:\n",
      " [[0.85844626 0.45384484 0.2060388  0.83615352]\n",
      " [0.96663255 0.31335014 0.50811253 0.7216278 ]] \n",
      "\n",
      "3D Array:\n",
      " [[[0.09606601 0.38418831]\n",
      "  [0.45300512 0.82750707]\n",
      "  [0.43221462 0.21432637]\n",
      "  [0.09024934 0.58007259]]\n",
      "\n",
      " [[0.76447312 0.08541178]\n",
      "  [0.79672127 0.78735961]\n",
      "  [0.44542839 0.15208153]\n",
      "  [0.07165198 0.75768462]]] \n",
      "\n"
     ]
    }
   ],
   "source": [
    "'''\n",
    "numpy.random.sample(size=None)\n",
    "\n",
    "    * Also function for doing random sampling .\n",
    "    * The results will be in from a continuous uniform distribution over the stated interval.\n",
    "'''\n",
    "\n",
    "# 1D Array\n",
    "# Output five random Float numbers\n",
    "random_random_sample_array1D = np.random.sample(size = 5)\n",
    "print (\"1D Array:\\n\",random_random_sample_array1D, \"\\n\")\n",
    "\n",
    "# 2D Array\n",
    "# Output an array that has an array within it.\n",
    "random_random_sample_array2D = np.random.sample(size =(2, 4))\n",
    "print (\"2D Array:\\n\",random_random_sample_array2D, \"\\n\") \n",
    "\n",
    "# 3D Array\n",
    "# Output an array that is an array of arrays of arrays.\n",
    "random_random_sample_array3D = np.random.sample((2, 4, 2))\n",
    "print (\"3D Array:\\n\",random_random_sample_array3D, \"\\n\") \n"
   ]
  },
  {
   "cell_type": "code",
   "execution_count": 10,
   "metadata": {},
   "outputs": [
    {
     "name": "stdout",
     "output_type": "stream",
     "text": [
      "[3 3 3]\n",
      "[3 0 2]\n"
     ]
    }
   ],
   "source": [
    "'''\n",
    "numpy.random.choice(a, size=None, replace=True, p=None)\n",
    "\n",
    "    * Generates a random sample from a given 1-D array\n",
    "    * This can be used when selecting a random password from a list or selecting a random item, \n",
    "'''\n",
    "\n",
    "# Display a non-uniform random sample\n",
    "print(np.random.choice(5, 3, p=[0.1, 0, 0.3, 0.6, 0]))\n",
    "\n",
    "# Use replacement\n",
    "print(np.random.choice(5, 3, replace=False, p=[0.1, 0, 0.3, 0.6, 0]))\n"
   ]
  },
  {
   "cell_type": "code",
   "execution_count": 11,
   "metadata": {},
   "outputs": [
    {
     "name": "stdout",
     "output_type": "stream",
     "text": [
      "Random bytes:  b'\\xdd;Hi\\x92\\x0c\\xcf\\xcb\\x16|'\n"
     ]
    }
   ],
   "source": [
    "'''\n",
    "numpy.random.bytes(length)\n",
    "\n",
    "    * Return a random binary string\n",
    "'''\n",
    "\n",
    "# Print ramdon bytes\n",
    "print(\"Random bytes: \", np.random.bytes(10))"
   ]
  },
  {
   "cell_type": "markdown",
   "metadata": {},
   "source": [
    "### Task 2.2 : Explain the use of “Permutations” functions"
   ]
  },
  {
   "cell_type": "markdown",
   "metadata": {},
   "source": [
    "A permutation function will arrange a list or series of numbers. This function can also be used to change the order in a given list. The two main functions are permutation and shuffle which I will demonstrate below with examples. \n",
    "\n",
    "random.shuffle will shuffle the array along the first axis of a multi-dimensional array while the order any sub-arrays will be changed and their contents will stay the same.\n",
    "\n",
    "random.permutation, on the other hand works differently. If the input is integer it will randomly permute np.arange(x) while if the input is an array it will make a copy and shuffle the elements randomly."
   ]
  },
  {
   "cell_type": "code",
   "execution_count": 12,
   "metadata": {},
   "outputs": [
    {
     "name": "stdout",
     "output_type": "stream",
     "text": [
      "Shuffle 1D [  3  10   2   5 100   8   3   2   1] \n",
      "\n",
      "Shuffle 3D [list([100, 5, 1, 2, 3]) list([9, 4, 23, 200]) list([2, 5, 6, 1, 300])] \n",
      "\n",
      "Reshape 1D \n",
      " [[  3  10   2]\n",
      " [  5 100   8]\n",
      " [  3   2   1]] \n",
      "\n"
     ]
    }
   ],
   "source": [
    "'''\n",
    "numpy.random.shuffle(x)\n",
    "\n",
    "    * Modify a sequence in-place by shuffling its contents.\n",
    "    * Shuffle the array along the first axis of a multi-dimensional array while the order any sub-arrays will be changed \n",
    "      and their contents will stay the same.\n",
    "'''\n",
    "\n",
    "# Shuffle can be used in differenrt deimensions. \n",
    "a1 = np.array([100, 5, 1, 2, 3,3,2,8,10])\n",
    "np.random.shuffle(a1)\n",
    "print(\"Shuffle 1D\",a1, \"\\n\")\n",
    "\n",
    "# Shuffle can be used in differenrt deimensions. \n",
    "a3 = np.array([[100,5,1,2,3] , [9,4,23,200], [2,5,6,1,300]])\n",
    "np.random.shuffle(a3)\n",
    "print(\"Shuffle 3D\",a3,\"\\n\")\n",
    "\n",
    "# The shuffle can also be reshaped. I have reshaped a1 as it has 9 digits and the reshape is will 3,3 \n",
    "a3 = a1.reshape(3,3)\n",
    "print(\"Reshape 1D \\n\",a3,\"\\n\")"
   ]
  },
  {
   "cell_type": "code",
   "execution_count": 13,
   "metadata": {},
   "outputs": [
    {
     "name": "stdout",
     "output_type": "stream",
     "text": [
      "Array from 0  9 :\n",
      " [6 2 9 0 4 5 7 3 1 8] \n",
      "\n",
      "Permute arrays :\n",
      " [list([2, 5, 6, 1, 300]) list([9, 4, 23, 200]) list([100, 5, 1, 2, 3])] \n",
      "\n",
      "Permute arrays :\n",
      " ['Feeney' 'Hello' 'World' 'Here' 'Richard']\n"
     ]
    }
   ],
   "source": [
    "'''\n",
    "numpy.random.permutation(x)\n",
    "\n",
    "    * Randomly permute a sequence, or return a permuted range.\n",
    "'''\n",
    "\n",
    "# Generate random ordered an array using permutation.\n",
    "print(\"Array from 0  9 :\\n\",np.random.permutation(10),\"\\n\")\n",
    "\n",
    "# Permute an array.\n",
    "print(\"Permute arrays :\\n\",np.random.permutation ([[100,5,1,2,3] , [9,4,23,200], [2,5,6,1,300]]),\"\\n\")\n",
    "\n",
    "# Permute an array\n",
    "print(\"Permute arrays :\\n\",np.random.permutation(['Hello', 'World', 'Richard', 'Feeney', 'Here']))\n"
   ]
  },
  {
   "cell_type": "markdown",
   "metadata": {},
   "source": [
    "## Task 3: Explain the use and purpose of at least five “Distributions” functions.\n",
    "\n",
    "In this section I will explain the following distributions :\n",
    "\n",
    "* Normal Distribution\n",
    "* Binomial Distribution\n",
    "* Uniform distribution\n",
    "* Poisson Distribution\n",
    "* Exponential Distribution"
   ]
  },
  {
   "cell_type": "markdown",
   "metadata": {},
   "source": [
    "### Task 3.1 : Normal Distribution"
   ]
  },
  {
   "cell_type": "markdown",
   "metadata": {},
   "source": [
    "The normal distribution also known as the Gaussian distribution has a bell curve and can be considered one of the most common and most important probability distributions in statistics. The reason it is so important is that it fits many natural phenomena. (Frost, 2019). For example, heights, test scores, etc all follow the normal distribution.\n",
    "\n",
    "The mean is represented at the center of the bell curve. One-half of the values will be placed to the left and the other half will be placed to the right. The total area under the curve is referred to as one standard deviation of the mean. We can add more standard deviation so we can catch all the values. \n",
    "\n",
    "The probability density is :\n",
    "\n",
    "$$p(x) = \\frac{1}{\\sqrt{ 2 \\pi \\sigma^2 }}\n",
    " e^{ - \\frac{ (x - \\mu)^2 } {2 \\sigma^2} },$$\n",
    "\n",
    "Standard deviation is a measurement of how the numbers on the chart will be spread. The 68-95-99.7 rule stats that when using normal distribution, we can view 68 as the total percentage of values and are within the first standard deviation of the mean, 95 percent of values are in the second deviation of the mean and that 7 percent will lie in the third deviation. (Mathsisfun.com, 2019)\n",
    "\n",
    "Please view the image below that will offer a visual representation: \n",
    "\n",
    "\n",
    "<img src=\"images/Normal.JPG\"/>\n"
   ]
  },
  {
   "cell_type": "code",
   "execution_count": 41,
   "metadata": {},
   "outputs": [
    {
     "name": "stdout",
     "output_type": "stream",
     "text": [
      "1D Array filled with random values  : \n",
      "\n",
      " [-0.78950852  1.28696287  0.35064431  1.30434767 -0.38732938 -0.54981981\n",
      " -0.75481156  1.5548383   0.08558934 -0.31481222 -0.90036595  0.60401131\n",
      "  0.7671302   0.4409624  -0.7388151  -0.78349871  0.38686462 -0.05038247\n",
      "  0.39670905 -1.89311106  2.19124165 -1.29300594  0.81458044  2.10866514\n",
      "  0.52983008  0.59201066 -1.06967886  1.28384561  1.22016911  0.85768152\n",
      " -0.04482596  1.53166448 -1.06419187 -0.8655266  -1.74173655  0.56255802\n",
      " -1.16192078 -0.19075057 -0.31124407  0.88937611 -0.66281166  0.0763177\n",
      " -0.8783048   1.24573817  0.98574813  0.634077    0.10383012  2.03566912\n",
      "  1.87662023  0.85341578 -1.5254876   0.27431     1.93138673 -0.21964362\n",
      "  0.23229    -0.53052558 -1.58654904  0.19105396  1.09778612 -0.20185282\n",
      "  1.21303495 -1.29181489  0.12024395  1.60635478  2.0047118   0.14096008\n",
      " -2.35600303  0.196236   -1.04770205 -0.6787502  -1.95996631 -0.18118756\n",
      "  0.61154146  0.69696527  1.33966484  0.14871261  0.75029484 -2.01978637\n",
      "  0.09895665 -0.12764046 -0.98704286 -1.22108963 -0.81243135 -0.23178236\n",
      " -0.57268065  0.44580712  0.15480637  0.83721227  0.49874737 -0.99271748\n",
      " -0.82193837  2.41017415  1.7236429  -1.02177942  0.34454608  0.11174724\n",
      " -0.15445204 -0.34460875 -0.99175951 -1.14258557]\n"
     ]
    },
    {
     "data": {
      "image/png": "[encoded data removed]",
      "text/plain": [
       "<Figure size 432x288 with 1 Axes>"
      ]
     },
     "metadata": {
      "needs_background": "light"
     },
     "output_type": "display_data"
    }
   ],
   "source": [
    "# np.random.normal(loc=0.0, scale=1.0, size=None) \n",
    "   \n",
    "# 1D Array as per Gaussian Distribution , The mean is 0 and standard deviation is 1\n",
    "normal = np.random.normal(0, 1.0, 100) \n",
    "print(\"1D Array filled with random values  :\",\"\\n\\n\", normal); \n",
    "\n",
    "# Plot Histogram\n",
    "plt.title(\"Normal Distribution Histogram\")\n",
    "plt.show(sns.distplot(np.random.normal(0, 3, 1000), bins=30))"
   ]
  },
  {
   "cell_type": "code",
   "execution_count": 42,
   "metadata": {},
   "outputs": [
    {
     "data": {
      "image/png": "[encoded data removed]",
      "text/plain": [
       "<Figure size 432x288 with 1 Axes>"
      ]
     },
     "metadata": {
      "needs_background": "light"
     },
     "output_type": "display_data"
    }
   ],
   "source": [
    "# Another way of generating the distribution\n",
    "\n",
    "# Plot a histogram \n",
    "m, sd = 0.0, 1.0 # set the mean and standard deviation\n",
    "normal = np.random.normal(m, sd, 1000) # generate results and store in var normal\n",
    "\n",
    "# Plot using probability density function\n",
    "count, bins, ignored= plt.hist(normal, 20, density=True)\n",
    "plt.plot(bins, 1/(sd * np.sqrt(2 * np.pi)) * np.exp( - (bins - m)**2 / (2 * sd**2) ),linewidth=2, color='r')\n",
    "plt.show()"
   ]
  },
  {
   "cell_type": "markdown",
   "metadata": {},
   "source": [
    "### Task 3.2 - Binomial Distribution"
   ]
  },
  {
   "cell_type": "markdown",
   "metadata": {},
   "source": [
    "In statistics, the binomial distribution is used when finding the probability of success of an event that has only two possible outcomes, i.e. flipping of a coin. This can be used with packages such as seaborn to generate nice graphs and scipy can be used when creating the binomial distribution. \n",
    "\n",
    "When thinking of a binominal distribution we can think of two assumptions, the first is that the probability of either success or failure should remain the same across events and that that one event is completely independent from other outcomes. The parameters that are used in a binomial distribution are “n”(total number of trials) and “p”(probability of success in each trial).  (Tutorialspoint.com, 2019). \n",
    "\n",
    "The probability density is $$P(N) = \\binom{n}{N}p^N(1-p)^{n-N}$$\n",
    "\n",
    "\n",
    "\n"
   ]
  },
  {
   "cell_type": "code",
   "execution_count": 43,
   "metadata": {},
   "outputs": [
    {
     "name": "stdout",
     "output_type": "stream",
     "text": [
      "[0 3 2 0 1 3 3 3 4 4 5 5 4 3 4 0 2 3 2 3]\n"
     ]
    }
   ],
   "source": [
    "# numpy.random.binomial(n, p, size=None)¶\n",
    "\n",
    "\n",
    "# result of flipping a coin 5 times, tested 20 times.\n",
    "n, p = 5, .5  # number of trials, probability of each trial\n",
    "x = np.random.binomial(n, p, 20)\n",
    "print(x)"
   ]
  },
  {
   "cell_type": "code",
   "execution_count": 44,
   "metadata": {},
   "outputs": [
    {
     "data": {
      "text/plain": [
       "[Text(0, 0.5, 'Frequency'), Text(0.5, 0, 'Binomial Distribution')]"
      ]
     },
     "execution_count": 44,
     "metadata": {},
     "output_type": "execute_result"
    },
    {
     "data": {
      "image/png": "[encoded data removed]",
      "text/plain": [
       "<Figure size 432x288 with 1 Axes>"
      ]
     },
     "metadata": {
      "needs_background": "light"
     },
     "output_type": "display_data"
    }
   ],
   "source": [
    "# Generate discrete random variable using scipy.stats\n",
    "\n",
    "from scipy.stats import binom\n",
    "\n",
    "x = binom.rvs(n=10,p=0.8,size=10000)  # number of trials, probability of each trial, size\n",
    "ax = sns.distplot(x,color='green', hist_kws={\"linewidth\": 20,'alpha':1}) # Generate graph\n",
    "ax.set(xlabel='Binomial Distribution', ylabel='Frequency')"
   ]
  },
  {
   "cell_type": "markdown",
   "metadata": {},
   "source": [
    "### Task 3.3 - Uniform distribution"
   ]
  },
  {
   "cell_type": "markdown",
   "metadata": {},
   "source": [
    "This is part of the NumPy package and is very helpful when dealing with arrays etc. It one of the simplest and most useful distribution as it can return floating point numbers (decimal numbers). Because any interval of numbers that are equal in width, have an equal probability of being observed and the distribution is shown as a rectangle. \n",
    "\n",
    "Samples are uniformly distributed over the half-open interval which means that low will be included, and high will be excluded. We can set the boundaries for low and high but if we choose not to low will equal zero and high will equal one. (Medium, 2019)\n",
    "\n",
    "\n",
    "The probability density function of the uniform distribution is $$p(x) = \\frac{1}{b - a}$$\n"
   ]
  },
  {
   "cell_type": "code",
   "execution_count": 45,
   "metadata": {},
   "outputs": [
    {
     "name": "stdout",
     "output_type": "stream",
     "text": [
      "[-0.23097941 -0.96536678 -0.73402753 -0.24540184 -0.01041281 -0.89081394\n",
      " -0.14432951 -0.44241843 -0.37732589 -0.51003808 -0.40550171 -0.83954414\n",
      " -0.17829191 -0.22287382 -0.73503562 -0.57897494 -0.27303633 -0.3349704\n",
      " -0.69454626 -0.89661901 -0.69214528 -0.93684638 -0.39225946 -0.46226483\n",
      " -0.04851196 -0.84655636 -0.34776122 -0.42743219 -0.67531282 -0.73454084\n",
      " -0.82410063 -0.80033758 -0.50905871 -0.38510114 -0.90515859 -0.93936944\n",
      " -0.2410156  -0.30859442 -0.46051824 -0.02100234 -0.5087397  -0.76337424\n",
      " -0.7606962  -0.69532776 -0.8155142  -0.36023096 -0.36384392 -0.69677606\n",
      " -0.14055986 -0.21480169 -0.61229972 -0.13556995 -0.76924754 -0.40862431\n",
      " -0.38728635 -0.77458657 -0.37695178 -0.36168343 -0.40034614 -0.92314396\n",
      " -0.8885544  -0.60723202 -0.93893549 -0.26892224 -0.31435854 -0.52703174\n",
      " -0.54430831 -0.79822648 -0.43313687 -0.94585096 -0.13220518 -0.06069277\n",
      " -0.99465084 -0.40561268 -0.49261054 -0.28177511 -0.54539424 -0.30559881\n",
      " -0.23731247 -0.79204608 -0.82198105 -0.29157224 -0.32220832 -0.54060635\n",
      " -0.4533541  -0.44374644 -0.19089151 -0.27782769 -0.94968287 -0.8498729\n",
      " -0.72614359 -0.70985244 -0.87372994 -0.63055053 -0.57449849 -0.57954191\n",
      " -0.12713194 -0.93539274 -0.17965955 -0.81503657]\n"
     ]
    },
    {
     "data": {
      "image/png": "[encoded data removed]",
      "text/plain": [
       "<Figure size 432x288 with 1 Axes>"
      ]
     },
     "metadata": {
      "needs_background": "light"
     },
     "output_type": "display_data"
    }
   ],
   "source": [
    "# numpy.random.uniform(low=0.0, high=1.0, size=None)\n",
    "\n",
    "\n",
    "x = np.random.uniform(-1,0,100) # Low = -1, high = 0 , size = 100\n",
    "print(x) # Show array of 100 number between -1 and 0 as floating point numbers \n",
    "\n",
    "\n",
    "# Check if the numbers are within range\n",
    "np.all(x >= -1)\n",
    "True\n",
    "np.all(x < 0)\n",
    "True\n",
    "\n",
    "# Display a histogram\n",
    "count, bins, ignored = plt.hist(x, 15, density=True)\n",
    "plt.plot(bins, np.ones_like(bins), linewidth=2, color='r')\n",
    "plt.show()"
   ]
  },
  {
   "cell_type": "markdown",
   "metadata": {},
   "source": [
    "### Task 3.4 - Poisson Distribution"
   ]
  },
  {
   "cell_type": "markdown",
   "metadata": {},
   "source": [
    "The Poisson distribution will display the amount of times that any one event will occur within a time frame. This distribution can do interesting things such as finding the probability of X number of events that will have in a time frame or how long will the wait time between events be. \n",
    "\n",
    "The Poisson distribution is a discrete function so this means that the variable can only be measured using whole numbers, ie number of email received in a specific time frame, amount of phone calls received etc. (DataCamp Community, 2019)\n",
    "\n",
    "The Poisson distribution\n",
    "\n",
    "$$f(k; \\lambda)=\\frac{\\lambda^k e^{-\\lambda}}{k!}$$\n",
    "\n",
    "According to (Docs.scipy.org, 2019) _\"For events with an expected separation \\lambda the Poisson distribution f(k; \\lambda) describes the probability of k events occurring within the observed interval \\lambda.\"_"
   ]
  },
  {
   "cell_type": "code",
   "execution_count": 46,
   "metadata": {},
   "outputs": [],
   "source": [
    "# numpy.random.poisson(lam=1.0, size=None)\n",
    "\n",
    "# Size is optional\n",
    "# Lam is a float or array of floats and should be greater than or equal to zero\n",
    "\n",
    "x = np.random.poisson(3, 50)# Create an array of 50 elements but wont work due to negative lam\n",
    "\n",
    "y = np.random.poisson(lam=(100., 500.), size=(100, 2)) "
   ]
  },
  {
   "cell_type": "code",
   "execution_count": 47,
   "metadata": {
    "scrolled": false
   },
   "outputs": [
    {
     "data": {
      "image/png": "[encoded data removed]",
      "text/plain": [
       "<Figure size 432x288 with 1 Axes>"
      ]
     },
     "metadata": {
      "needs_background": "light"
     },
     "output_type": "display_data"
    },
    {
     "data": {
      "image/png": "[encoded data removed]",
      "text/plain": [
       "<Figure size 432x288 with 1 Axes>"
      ]
     },
     "metadata": {
      "needs_background": "light"
     },
     "output_type": "display_data"
    }
   ],
   "source": [
    "count, bins, ignored = plt.hist(x, 16, density=True)\n",
    "plt.show()\n",
    "\n",
    "count, bins, ignored = plt.hist(y, 16, density=True)\n",
    "plt.show()"
   ]
  },
  {
   "cell_type": "markdown",
   "metadata": {},
   "source": [
    "### Task 3.5 - Exponential distribution"
   ]
  },
  {
   "cell_type": "markdown",
   "metadata": {},
   "source": [
    "The exponential distribution is a continuous distributions and is regularly used to predict the amount of time that elapses between events. The function accepts two arguments, first is the scale which is the rate at which events decline. The second is size and this is the number of events.\n",
    "\n",
    "One example of this could be a book store, how long does it take for a customer to search and buy what they are looking for. Another example would be the amount of time we would have to wait before the next bus arrives.\n",
    "\n",
    "Its probability density function is $$f(x; \\frac{1}{\\beta}) = \\frac{1}{\\beta} \\exp(-\\frac{x}{\\beta})$$\n",
    "\n",
    "According to (Docs.scipy.org, 2019) _\"for x > 0 and 0 elsewhere. \\beta is the scale parameter, which is the inverse of the rate parameter \\lambda = 1/\\beta. The rate parameter is an alternative, widely used parameterization of the exponential distribution\"_\n",
    "\n",
    "\n"
   ]
  },
  {
   "cell_type": "code",
   "execution_count": 96,
   "metadata": {},
   "outputs": [
    {
     "data": {
      "text/plain": [
       "array([ 5.04160348,  3.80021024,  3.91152535,  6.09992923,  4.53278724,\n",
       "        4.42569534,  5.16169522, 10.89945043,  5.53459144,  4.67803748,\n",
       "        5.94741834,  5.6320754 ,  6.59543301,  6.50876484,  7.45671722,\n",
       "        5.58969773,  7.13585556,  3.90907427,  4.57079751,  5.23117395,\n",
       "        5.38984692,  4.54743824,  3.5492771 ,  3.7703519 ,  3.71888126,\n",
       "        5.17776658,  2.59307256,  2.6726797 ,  3.65387887,  4.20192523,\n",
       "        2.90764549,  4.67563842,  5.46131198,  3.08759882,  4.23068962,\n",
       "        2.92876496,  5.77883097,  5.22316884,  7.75162527,  7.79758278,\n",
       "        4.96338498,  4.16692311,  5.3051416 ,  8.78885882,  3.87254532,\n",
       "        6.9835153 ,  1.30131137,  3.65457355,  3.36247102,  8.4254817 ,\n",
       "        4.37183984,  7.0313028 ,  6.17289437,  2.78399313,  4.06971246,\n",
       "        2.27452277,  4.05767105,  7.41915417,  8.19190908,  5.36465358,\n",
       "        4.92860618,  9.46663429,  6.14005741,  4.50425938,  3.30798414,\n",
       "        4.8701487 ,  4.17259382,  5.36986244,  2.84460508,  5.56012418,\n",
       "        3.9147419 ,  7.50082174,  6.76672228,  3.95882619,  4.36987545,\n",
       "        7.97236024,  1.97260814,  6.97808458,  2.91614529,  3.6529084 ,\n",
       "        4.07708292,  2.37075262,  3.77145368,  2.62810315,  5.06419937,\n",
       "        8.15928032,  5.56087175,  2.39059524,  4.79076156,  4.66352437,\n",
       "        4.90539187,  7.8889165 ,  8.42621504, 10.09841896,  2.32476247,\n",
       "        2.36374333,  5.6006455 ,  4.87400889,  7.26155132,  4.79548666])"
      ]
     },
     "execution_count": 96,
     "metadata": {},
     "output_type": "execute_result"
    }
   ],
   "source": [
    "# numpy.random.exponential(scale=1.0, size=None)\n",
    "\n",
    "import numpy.random as npr # Import the random library\n",
    "npr.exponential(scale=1,size=(100,5)).sum(axis=1)"
   ]
  },
  {
   "cell_type": "code",
   "execution_count": 97,
   "metadata": {},
   "outputs": [
    {
     "data": {
      "image/png": "[encoded data removed]",
      "text/plain": [
       "<Figure size 432x288 with 1 Axes>"
      ]
     },
     "metadata": {
      "needs_background": "light"
     },
     "output_type": "display_data"
    }
   ],
   "source": [
    "# Display graph that inputs has a scal of 20 and size is 1000\n",
    "plt.show(plt.hist(np.random.exponential(20, 1000)))"
   ]
  },
  {
   "cell_type": "markdown",
   "metadata": {},
   "source": [
    "### Explain the use of seeds in generating pseudorandom numbers."
   ]
  },
  {
   "cell_type": "markdown",
   "metadata": {},
   "source": [
    "We all know that computers operate by a set of rules which makes them predictable and in turn makes it is difficult to generate truly random numbers. The Pseudo Random Number Generator (PRNG) refers to an algorithm that uses mathematics when displaying a sequence of random numbers and starts from an arbitrary starting state using a seed state. PRNG is a technique that was developed for computers to generate random numbers, is very efficient and can produce high volumes of numbers in a short period. When the starting point in a sequence is known PRNG can reproduce a sequence at a point which can be useful. PRNG is also periodic which means that eventually the sequence of numbers will repeat.(do? et al., 2019)\n",
    "\n",
    "The seed is the first number that is passed, it is the starting point the number generation sequence. As I mentioned above this can produce the same sequence of random numbers and because of this it can be useful for different activities, for example, testing a new algorithm when we want the same sequence of random numbers. Basically each time a seed is set, a reference will be created and the next time a call is made to the same seed it will generate the same result.(do? et al., 2019)\n",
    "\n",
    "\n",
    "\n"
   ]
  },
  {
   "cell_type": "code",
   "execution_count": 98,
   "metadata": {},
   "outputs": [
    {
     "name": "stdout",
     "output_type": "stream",
     "text": [
      "75\n",
      "75\n",
      "75\n",
      "75\n",
      "75\n",
      "75\n",
      "\n",
      "\n",
      "293\n",
      "293\n",
      "293\n",
      "293\n",
      "293\n",
      "293\n"
     ]
    }
   ],
   "source": [
    "# View the below example to demenstrate the same output\n",
    "# random module is imported \n",
    "\n",
    "import random  \n",
    "for i in range(6): # Use a loop to display six numbers\n",
    "    random.seed(100) # Set the random seed\n",
    "    print(random.randint(1, 500))  # Generated number between 1 to 500. \n",
    "\n",
    "print(\"\\n\")\n",
    "    \n",
    "import random  \n",
    "for i in range(6): # Use a loop to display six numbers\n",
    "    random.seed(10) # Set the random seed\n",
    "    print(random.randint(1, 500))  # Generated number between 1 to 500. "
   ]
  },
  {
   "cell_type": "code",
   "execution_count": 99,
   "metadata": {},
   "outputs": [
    {
     "name": "stdout",
     "output_type": "stream",
     "text": [
      "75\n",
      "75\n",
      "\n",
      "\n",
      "236\n",
      "233\n"
     ]
    }
   ],
   "source": [
    "# The seed must be set before random is executed and if not the seed wont be used. See example below\n",
    "\n",
    "# Use the seed twice to print the same number\n",
    "# Note, I used 100 for my seed as I did above and the number generated is the same. This proves that computers are deterministic\n",
    "random.seed(100)   \n",
    "print(random.randint(1, 500)) \n",
    "\n",
    "random.seed(100) \n",
    "print(random.randint(1, 500)) \n",
    "\n",
    "\n",
    "\n",
    "print(\"\\n\")\n",
    "\n",
    "# Below I have not used the seed so the outputs should be different \n",
    "print(random.randint(1, 500)) \n",
    "print(random.randint(1, 500)) \n",
    "\n"
   ]
  },
  {
   "cell_type": "code",
   "execution_count": null,
   "metadata": {},
   "outputs": [],
   "source": []
  },
  {
   "cell_type": "code",
   "execution_count": null,
   "metadata": {},
   "outputs": [],
   "source": []
  }
 ],
 "metadata": {
  "kernelspec": {
   "display_name": "Python 3",
   "language": "python",
   "name": "python3"
  },
  "language_info": {
   "codemirror_mode": {
    "name": "ipython",
    "version": 3
   },
   "file_extension": ".py",
   "mimetype": "text/x-python",
   "name": "python",
   "nbconvert_exporter": "python",
   "pygments_lexer": "ipython3",
   "version": "3.7.3"
  }
 },
 "nbformat": 4,
 "nbformat_minor": 2
}
