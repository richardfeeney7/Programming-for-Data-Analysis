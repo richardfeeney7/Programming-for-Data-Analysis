{
 "cells": [
  {
   "cell_type": "markdown",
   "metadata": {},
   "source": [
    "# Programming-for-Data-Analysis"
   ]
  },
  {
   "cell_type": "markdown",
   "metadata": {},
   "source": [
    "## Task 1 : Explain the overall purpose of the package"
   ]
  },
  {
   "cell_type": "markdown",
   "metadata": {},
   "source": [
    "_NumPy, short for Numerical Python, is a Python library. It is a fundamental Python package that is used for scientific \n",
    "computing.  According to (Docs.scipy.org, 2019), “NumPy provides a multidimensional array object, various derived objects \n",
    "(such as masked arrays and matrices), and an assortment of routines for fast operations on arrays, including mathematical, \n",
    "logical, shape manipulation, sorting, selecting, I/O, discrete Fourier transforms, basic linear algebra, basic statistical \n",
    "operations, random simulation and much more”. Bacially what this means is that NumPy is very fast dealing with numbers that are in list or multidimensional arrays (lists within lists). We can think of an array as a collection of elements that are of the same \n",
    "type and can store one of more values within a single variable. NumPy when used with packages such as Pandas and \n",
    "Matplotlib also us to visually see graph and statistics._\n",
    "\n",
    "\n",
    "_With regards to numpy.random, this is a sub-package of numpy package in Python. While working with simulations the ability \n",
    "to generate random numbers is required. According to (Subscription.packtpub.com, 2019) “It uses a particular algorithm, \n",
    "called the Mersenne Twister, to generate pseudorandom numbers”. When we think of the word random we would assume that the data that is generated would be completely random but with Python this is not the case in the scientific sense of the word as a pseudorandom number generator (PRNG) is essentially an algorithm for generating seemingly random but still reproducible data._  \n"
   ]
  },
  {
   "cell_type": "markdown",
   "metadata": {},
   "source": [
    "## Task 2 : Explain the use of the “Simple random data” and “Permutations” functions\n",
    "\n",
    "#### Task 2.1 : Explain the use of “Simple random data” "
   ]
  },
  {
   "cell_type": "markdown",
   "metadata": {},
   "source": [
    "Simple random sample  can be defined as a subset of a statistical population where of its members has equal probability to be chosen. Simple random data will generate random values that depend on the function selected. The main functions for Random Sampling is uniform, uniform sample, discrete uniform, continuous uniform and standard normal distributions. \n",
    "\n",
    "#### numpy.random uses many different functions that I will explain below."
   ]
  },
  {
   "cell_type": "code",
   "execution_count": 27,
   "metadata": {},
   "outputs": [],
   "source": [
    "# Import the libaries needed \n",
    "\n",
    "import numpy as np\n",
    "import matplotlib.pyplot as plt\n",
    "%matplotlib inline\n",
    "import seaborn as sns"
   ]
  },
  {
   "cell_type": "code",
   "execution_count": 3,
   "metadata": {},
   "outputs": [
    {
     "name": "stdout",
     "output_type": "stream",
     "text": [
      "1D Array\n",
      " [0.85531002 0.3212882  0.91540102] \n",
      "\n",
      "2D Array\n",
      " [[0.67227242 0.72560473 0.73174079 0.11539582 0.22511399 0.05897818]\n",
      " [0.99493269 0.80830478 0.42501824 0.8726226  0.64859349 0.28329596]\n",
      " [0.24535985 0.04781701 0.51577799 0.97250586 0.43661545 0.83388953]] \n",
      "\n",
      "3D Array\n",
      " [[[0.57141006 0.90278408 0.94497934 0.15275359 0.11419045 0.64857129\n",
      "   0.76285861]\n",
      "  [0.51664748 0.07316302 0.90557968 0.37186584 0.75778953 0.35259495\n",
      "   0.73162671]]\n",
      "\n",
      " [[0.68248704 0.99203567 0.29210732 0.13231618 0.95280483 0.38287089\n",
      "   0.36999572]\n",
      "  [0.49074509 0.89172815 0.34852973 0.56599558 0.57403194 0.97626987\n",
      "   0.5339244 ]]\n",
      "\n",
      " [[0.85523151 0.39437757 0.97844417 0.83276988 0.80980267 0.30733181\n",
      "   0.28873051]\n",
      "  [0.96747067 0.95119936 0.56020771 0.97289675 0.49587041 0.45575476\n",
      "   0.20096123]]] \n",
      "\n"
     ]
    }
   ],
   "source": [
    "# Example of simply random data using numpy.random.rand using different array sizes\n",
    "\n",
    "'''\n",
    "numpy.random.rand (d0, d1, …, dn)\n",
    "\n",
    "    * Generates an array of a specified shape and fills the shape with random values\n",
    "    * Uses uniform distribution over\n",
    "    * A uniform distribution is one in which all values are equally likely with the set range. For example, a distribution \n",
    "      from zero to ten, the values from 2 to 3 have a 10% probability as do values from 3 to 5.\n",
    "'''\n",
    "\n",
    "# 1D Array \n",
    "print(\"1D Array\\n\",np.random.rand(3),\"\\n\")\n",
    "\n",
    "# 2D Array\n",
    "# Output an array that has an array within it.\n",
    "print(\"2D Array\\n\",np.random.rand(3,6),\"\\n\")\n",
    "\n",
    "# 3D Array\n",
    "# Output an array that is an array of arrays of arrays.\n",
    "print(\"3D Array\\n\",np.random.rand(3,2,7),\"\\n\")\n"
   ]
  },
  {
   "cell_type": "code",
   "execution_count": 17,
   "metadata": {},
   "outputs": [
    {
     "name": "stdout",
     "output_type": "stream",
     "text": [
      "1D Array\n",
      " [ 1.55599822 -1.98990254  1.28828818] \n",
      "\n",
      "2D Array\n",
      " [[-0.18387604  0.49899495 -1.7805606   0.56289541]\n",
      " [-1.23887399  1.18920897 -0.86047912  2.63170968]\n",
      " [ 1.02385358  0.25198523  0.73939129  0.10949691]] \n",
      "\n",
      "3D Array\n",
      " [[[ 1.16915144  0.58267728  0.17822375]\n",
      "  [ 1.28101214  0.6938999   1.52372246]\n",
      "  [ 1.28484597 -1.93891131 -1.78409973]\n",
      "  [-1.59050659  2.09518703  0.59848767]]\n",
      "\n",
      " [[ 0.9040978  -0.12216741  0.67925247]\n",
      "  [-0.14756392 -0.50288562 -1.22752065]\n",
      "  [ 0.59232645 -0.93407091 -0.63527156]\n",
      "  [ 1.41574592 -0.81608632  0.31610819]]\n",
      "\n",
      " [[ 0.7032795   0.26296413 -0.25759352]\n",
      "  [-0.17224584  0.54515399  0.85353413]\n",
      "  [ 0.16124801  0.44235747 -3.31693729]\n",
      "  [ 0.03770933 -0.16708245  0.89107867]]] \n",
      "\n",
      "2D Array\n",
      " [[-0.87630048 -0.78616508 -0.41223508  1.40813623]\n",
      " [-0.07024508 -0.13191561 -0.80368512  1.20664318]\n",
      " [ 2.02429865 -0.58964005 -1.06985707  0.84030285]] \n",
      "\n",
      "\n",
      "Array * 2 : \n",
      " [[-1.75260097 -1.57233015 -0.82447017  2.81627246]\n",
      " [-0.14049016 -0.26383122 -1.60737024  2.41328637]\n",
      " [ 4.04859729 -1.17928009 -2.13971413  1.6806057 ]]\n",
      "\n",
      "Array ** 2 : \n",
      " [[0.76790254 0.61805553 0.16993777 1.98284764]\n",
      " [0.00493437 0.01740173 0.64590977 1.45598777]\n",
      " [4.09778501 0.34767538 1.14459414 0.70610888]]\n"
     ]
    }
   ],
   "source": [
    "'''\n",
    "numpy.random.randn(d0, d1, ..., dn)\n",
    "\n",
    "    * Generates an array of a specified shape and fills the shape with random values \n",
    "    * Uses normal distribution.\n",
    "    * A normal distribution is when vales cluster around the average\n",
    "    * Possible to manipulate array.\n",
    "'''\n",
    "\n",
    "# 1D Array \n",
    "randn_array1D = np.random.randn(3)\n",
    "print(\"1D Array\\n\",randn_array1D,\"\\n\")\n",
    "\n",
    "# 2D Array\n",
    "# Output an array that has an array within it.\n",
    "randn_array2D = np.random.randn(3,4)\n",
    "print(\"2D Array\\n\",randn_array2D,\"\\n\")\n",
    " \n",
    "# 3D Array\n",
    "# Output an array that is an array of arrays of arrays.\n",
    "randn_array3D = np.random.randn(3,4,3)\n",
    "print(\"3D Array\\n\",randn_array3D,\"\\n\")\n",
    "\n",
    "\n",
    "# Manipulation of 2D array\n",
    "\n",
    "# 2D Array\n",
    "randn_array2D = np.random.randn(3,4)\n",
    "print(\"2D Array\\n\",randn_array2D,\"\\n\")\n",
    "       \n",
    "# Dividing values with 2. Adding, subtracting and dividing following a similar format. \n",
    "print(\"\\nArray * 2 : \\n\", randn_array2D *2)\n",
    "\n",
    "#  Find array2d ** 2. \n",
    "print(\"\\nArray ** 2 : \\n\", randn_array2D **2)\n",
    "\n",
    " "
   ]
  },
  {
   "cell_type": "code",
   "execution_count": 15,
   "metadata": {},
   "outputs": [
    {
     "name": "stdout",
     "output_type": "stream",
     "text": [
      "1D Array:\n",
      " [4 2 4 3 3 2 5 4 2] \n",
      "\n",
      "2D Array:\n",
      " [[2 3 4]\n",
      " [2 4 5]\n",
      " [4 5 4]\n",
      " [2 3 2]\n",
      " [4 4 5]\n",
      " [2 5 5]\n",
      " [3 5 2]\n",
      " [5 5 2]\n",
      " [4 4 5]] \n",
      "\n",
      "3D Array:\n",
      " [[[5 5]\n",
      "  [5 2]\n",
      "  [2 5]]\n",
      "\n",
      " [[4 2]\n",
      "  [2 4]\n",
      "  [4 4]]\n",
      "\n",
      " [[2 4]\n",
      "  [4 3]\n",
      "  [5 5]]\n",
      "\n",
      " [[4 5]\n",
      "  [2 4]\n",
      "  [2 4]]\n",
      "\n",
      " [[3 2]\n",
      "  [2 5]\n",
      "  [3 2]]\n",
      "\n",
      " [[3 4]\n",
      "  [3 3]\n",
      "  [3 2]]\n",
      "\n",
      " [[2 3]\n",
      "  [5 4]\n",
      "  [4 2]]\n",
      "\n",
      " [[4 2]\n",
      "  [2 5]\n",
      "  [3 2]]\n",
      "\n",
      " [[4 5]\n",
      "  [4 2]\n",
      "  [2 2]]] \n",
      "\n"
     ]
    }
   ],
   "source": [
    "'''\n",
    "numpy.random.randint(low, high=None, size=None, dtype='l')\n",
    "\n",
    "    * Generates and returns random integers. The returned array will be fitter with random numbers from low(inclusive) to \n",
    "      high (exclusive).\n",
    "    * The default value for dtype is np.int.\n",
    "\n",
    "'''\n",
    "\n",
    "# 1D Array\n",
    "# Lowest number will be and including 2 , highest number upto not including 6, 9 values will be displayed in the array\n",
    "randint_array1D = np.random.randint(low = 2, high = 6, size = 9) \n",
    "print (\"1D Array:\\n\",randint_array1D, \"\\n\")  \n",
    "\n",
    "# 2D Array\n",
    "# Output an array that has an array within it. \n",
    "randint_array2D = np.random.randint(low = 2, high = 6, size = (9, 3))\n",
    "print (\"2D Array:\\n\",randint_array2D, \"\\n\") \n",
    "\n",
    "# 3D Array\n",
    "# Output an array that is an array of arrays of arrays.\n",
    "randint_array3D = np.random.randint(low = 2, high = 6, size = (9, 3, 2))\n",
    "print (\"3D Array:\\n\",randint_array3D, \"\\n\") \n"
   ]
  },
  {
   "cell_type": "code",
   "execution_count": 19,
   "metadata": {},
   "outputs": [
    {
     "name": "stdout",
     "output_type": "stream",
     "text": [
      "1D Array:\n",
      " [6 2 2 2 5 4 3 3 6] \n",
      "\n",
      "2D Array:\n",
      " [[5 3 3]\n",
      " [5 2 5]\n",
      " [5 2 5]\n",
      " [2 6 4]\n",
      " [3 2 4]\n",
      " [6 6 2]\n",
      " [4 4 4]\n",
      " [3 4 4]\n",
      " [3 6 5]] \n",
      "\n",
      "3D Array:\n",
      " [[[6 6]\n",
      "  [2 4]\n",
      "  [2 6]]\n",
      "\n",
      " [[5 4]\n",
      "  [6 5]\n",
      "  [6 5]]\n",
      "\n",
      " [[2 5]\n",
      "  [6 3]\n",
      "  [2 2]]\n",
      "\n",
      " [[2 3]\n",
      "  [4 5]\n",
      "  [2 3]]\n",
      "\n",
      " [[5 4]\n",
      "  [6 6]\n",
      "  [4 6]]\n",
      "\n",
      " [[2 2]\n",
      "  [5 3]\n",
      "  [5 5]]\n",
      "\n",
      " [[5 3]\n",
      "  [4 6]\n",
      "  [2 3]]\n",
      "\n",
      " [[3 5]\n",
      "  [2 3]\n",
      "  [3 6]]\n",
      "\n",
      " [[4 4]\n",
      "  [4 6]\n",
      "  [3 6]]] \n",
      "\n"
     ]
    },
    {
     "name": "stderr",
     "output_type": "stream",
     "text": [
      "C:\\Users\\richa\\Anaconda3\\lib\\site-packages\\ipykernel_launcher.py:10: DeprecationWarning: This function is deprecated. Please call randint(2, 6 + 1) instead\n",
      "  # Remove the CWD from sys.path while we load stuff.\n",
      "C:\\Users\\richa\\Anaconda3\\lib\\site-packages\\ipykernel_launcher.py:15: DeprecationWarning: This function is deprecated. Please call randint(2, 6 + 1) instead\n",
      "  from ipykernel import kernelapp as app\n",
      "C:\\Users\\richa\\Anaconda3\\lib\\site-packages\\ipykernel_launcher.py:20: DeprecationWarning: This function is deprecated. Please call randint(2, 6 + 1) instead\n"
     ]
    }
   ],
   "source": [
    "'''\n",
    "numpy.random.random_integers(low, high=None, size=None)\n",
    "    \n",
    "    * Please note that this function has been deprecated and tge recommendation is to use randint.\n",
    "    * Generates and returns an array of specified shape and fills it with random integers from low (inclusive) to \n",
    "      high (exclusive)\n",
    "'''\n",
    "\n",
    "# 1D Array\n",
    "# Lowest number will be and including 2 , highest number upto not including 6, 9 values will be displayed in the array\n",
    "random_integers_array1D = np.random.random_integers(low = 2, high = 6, size = 9) \n",
    "print (\"1D Array:\\n\",random_integers_array1D, \"\\n\")  \n",
    "\n",
    "# 2D Array\n",
    "# Output an array that has an array within it.\n",
    "random_integers_array2D = np.random.random_integers(low = 2, high = 6, size = (9, 3))\n",
    "print (\"2D Array:\\n\",random_integers_array2D, \"\\n\") \n",
    "\n",
    "# 3D Array\n",
    "# Output an array that is an array of arrays of arrays.\n",
    "random_integers_array3D = np.random.random_integers(low = 2, high = 6, size = (9, 3, 2))\n",
    "print (\"3D Array:\\n\",random_integers_array3D, \"\\n\") \n"
   ]
  },
  {
   "cell_type": "code",
   "execution_count": 7,
   "metadata": {},
   "outputs": [
    {
     "name": "stdout",
     "output_type": "stream",
     "text": [
      "1D Array:\n",
      " 0.013135238893169698 \n",
      "\n",
      "2D Array:\n",
      " [[0.38396348 0.66494726 0.30694328]] \n",
      "\n",
      "3D Array:\n",
      " [[[0.70036872]\n",
      "  [0.56895566]]\n",
      "\n",
      " [[0.2689658 ]\n",
      "  [0.31166574]]\n",
      "\n",
      " [[0.51269568]\n",
      "  [0.05224304]]] \n",
      "\n"
     ]
    }
   ],
   "source": [
    "'''\n",
    "numpy.random.random_sample(size=None)\n",
    "\n",
    "    * A function for random sampling in numpy. The function will return an array and fill it with random floats.\n",
    "    * The results will be in from a continuous uniform distribution over the stated interval.\n",
    "'''\n",
    "\n",
    "# 1D Array\n",
    "# Output random Float number\n",
    "random_sample_array1D = np.random.random_sample()\n",
    "print (\"1D Array:\\n\",random_sample_array1D, \"\\n\")\n",
    "\n",
    "# 2D Array\n",
    "# Output an array that has an array within it.\n",
    "random_sample_array2D = np.random.random_sample(size =(1, 3))\n",
    "print (\"2D Array:\\n\",random_sample_array2D, \"\\n\") \n",
    "\n",
    "# 3D Array\n",
    "# Output an array that is an array of arrays of arrays.\n",
    "random_sample_array3D = np.random.random_sample((3, 2, 1))\n",
    "print (\"3D Array:\\n\",random_sample_array3D, \"\\n\") "
   ]
  },
  {
   "cell_type": "code",
   "execution_count": 8,
   "metadata": {},
   "outputs": [
    {
     "name": "stdout",
     "output_type": "stream",
     "text": [
      "1D Array:\n",
      " [0.64826006 0.29349483 0.09758882 0.63041712 0.47745336] \n",
      "\n",
      "2D Array:\n",
      " [[0.98222037 0.57648457 0.34481181 0.41937175]\n",
      " [0.11081919 0.9973942  0.73350412 0.12229079]] \n",
      "\n",
      "3D Array:\n",
      " [[[0.51454328 0.958842  ]\n",
      "  [0.93228703 0.25001972]\n",
      "  [0.68623068 0.99782124]\n",
      "  [0.17675364 0.44720207]]\n",
      "\n",
      " [[0.48271877 0.04700128]\n",
      "  [0.00520824 0.24900005]\n",
      "  [0.01126909 0.0936016 ]\n",
      "  [0.99775455 0.19306593]]] \n",
      "\n"
     ]
    }
   ],
   "source": [
    "'''\n",
    "numpy.random.random(size=None)\n",
    "\n",
    "    * Also function for doing random sampling.\n",
    "    * The results will be in from a continuous uniform distribution over the stated interval.\n",
    "'''\n",
    "\n",
    "# 1D Array\n",
    "# Output five random Float numbers\n",
    "random_random_array1D = np.random.random(size = 5)\n",
    "print (\"1D Array:\\n\",random_random_array1D, \"\\n\")\n",
    "\n",
    "# 2D Array\n",
    "# Output an array that has an array within it.\n",
    "random_random_array2D = np.random.random(size =(2, 4))\n",
    "print (\"2D Array:\\n\",random_random_array2D, \"\\n\") \n",
    "\n",
    "# 3D Array\n",
    "# Output an array that is an array of arrays of arrays.\n",
    "random_random_array3D = np.random.random((2, 4, 2))\n",
    "print (\"3D Array:\\n\",random_random_array3D, \"\\n\") \n"
   ]
  },
  {
   "cell_type": "code",
   "execution_count": 9,
   "metadata": {},
   "outputs": [
    {
     "name": "stdout",
     "output_type": "stream",
     "text": [
      "1D Array:\n",
      " 0.43140692496729505 \n",
      "\n",
      "2D Array:\n",
      " [[0.71419495 0.6443541  0.21343975 0.20837545]\n",
      " [0.12784794 0.2479147  0.85927527 0.51673845]] \n",
      "\n",
      "3D Array:\n",
      " [[[0.07288882 0.70988098]\n",
      "  [0.87243012 0.26068636]\n",
      "  [0.88400776 0.68603929]\n",
      "  [0.33404477 0.6672358 ]]\n",
      "\n",
      " [[0.3793639  0.64075767]\n",
      "  [0.80684944 0.28005429]\n",
      "  [0.93555432 0.91058616]\n",
      "  [0.42486811 0.41715325]]] \n",
      "\n"
     ]
    }
   ],
   "source": [
    "''''\n",
    "numpy.random.ranf(size=None)\n",
    "\n",
    "    * Also function for doing random sampling.\n",
    "    * The results will be in from a continuous uniform distribution over the stated interval.\n",
    "'''\n",
    "\n",
    "\n",
    "# 1D Array\n",
    "# Output random Float number\n",
    "random_ranf_array1D = np.random.ranf()\n",
    "print (\"1D Array:\\n\",random_ranf_array1D, \"\\n\")\n",
    "\n",
    "# 2D Array\n",
    "# Output an array that has an array within it.\n",
    "random_ranf_array2D = np.random.ranf(size =(2, 4))\n",
    "print (\"2D Array:\\n\",random_ranf_array2D, \"\\n\") \n",
    "\n",
    "# 3D Array\n",
    "# Output an array that is an array of arrays of arrays.\n",
    "random_ranf_array3D = np.random.ranf((2, 4, 2))\n",
    "print (\"3D Array:\\n\",random_ranf_array3D, \"\\n\") "
   ]
  },
  {
   "cell_type": "code",
   "execution_count": 10,
   "metadata": {},
   "outputs": [
    {
     "name": "stdout",
     "output_type": "stream",
     "text": [
      "1D Array:\n",
      " [0.06161867 0.65955043 0.4737295  0.34030089 0.61930466] \n",
      "\n",
      "2D Array:\n",
      " [[0.28470539 0.97374785 0.41147647 0.58924544]\n",
      " [0.9593707  0.63722784 0.61335833 0.80132098]] \n",
      "\n",
      "3D Array:\n",
      " [[[0.50365445 0.62077963]\n",
      "  [0.01951436 0.75473008]\n",
      "  [0.46894315 0.29460186]\n",
      "  [0.18700598 0.14161526]]\n",
      "\n",
      " [[0.18452963 0.59980519]\n",
      "  [0.24419613 0.94016333]\n",
      "  [0.95311121 0.08198031]\n",
      "  [0.78730994 0.11075775]]] \n",
      "\n"
     ]
    }
   ],
   "source": [
    "'''\n",
    "numpy.random.sample(size=None)\n",
    "\n",
    "    * Also function for doing random sampling .\n",
    "    * The results will be in from a continuous uniform distribution over the stated interval.\n",
    "'''\n",
    "\n",
    "# 1D Array\n",
    "# Output five random Float numbers\n",
    "random_random_sample_array1D = np.random.sample(size = 5)\n",
    "print (\"1D Array:\\n\",random_random_sample_array1D, \"\\n\")\n",
    "\n",
    "# 2D Array\n",
    "# Output an array that has an array within it.\n",
    "random_random_sample_array2D = np.random.sample(size =(2, 4))\n",
    "print (\"2D Array:\\n\",random_random_sample_array2D, \"\\n\") \n",
    "\n",
    "# 3D Array\n",
    "# Output an array that is an array of arrays of arrays.\n",
    "random_random_sample_array3D = np.random.sample((2, 4, 2))\n",
    "print (\"3D Array:\\n\",random_random_sample_array3D, \"\\n\") \n"
   ]
  },
  {
   "cell_type": "code",
   "execution_count": 30,
   "metadata": {},
   "outputs": [
    {
     "name": "stdout",
     "output_type": "stream",
     "text": [
      "[2 3 2]\n",
      "[3 2 0]\n"
     ]
    }
   ],
   "source": [
    "'''\n",
    "numpy.random.choice(a, size=None, replace=True, p=None)\n",
    "\n",
    "    * Generates a random sample from a given 1-D array\n",
    "    * This can be used when selecting a random password from a list or selecting a random item, \n",
    "'''\n",
    "\n",
    "# Display a non-uniform random sample\n",
    "print(np.random.choice(5, 3, p=[0.1, 0, 0.3, 0.6, 0]))\n",
    "\n",
    "# Use replacement\n",
    "print(np.random.choice(5, 3, replace=False, p=[0.1, 0, 0.3, 0.6, 0]))\n"
   ]
  },
  {
   "cell_type": "code",
   "execution_count": 12,
   "metadata": {},
   "outputs": [
    {
     "name": "stdout",
     "output_type": "stream",
     "text": [
      "Random bytes:  b'\\xf9l\\xa7\\x95\\xe0\\xad\\xc9\\xd6\\x8f}'\n"
     ]
    }
   ],
   "source": [
    "'''\n",
    "numpy.random.bytes(length)\n",
    "\n",
    "    * Return a random binary string\n",
    "'''\n",
    "\n",
    "# Print ramdon bytes\n",
    "print(\"Random bytes: \", np.random.bytes(10))"
   ]
  },
  {
   "cell_type": "markdown",
   "metadata": {},
   "source": [
    "### Task 2.2 : Explain the use of “Permutations” functions"
   ]
  },
  {
   "cell_type": "markdown",
   "metadata": {},
   "source": [
    "A permutation function will arrange a list or series of numbers. This function can also be used to change the order in a given list. The two main functions are permutation and shuffle which I will demonstrate below with examples. \n",
    "\n",
    "random.shuffle will shuffle the array along the first axis of a multi-dimensional array while the order any sub-arrays will be changed and their contents will stay the same.\n",
    "\n",
    "random.permutation on the other hand works differently. If the input is integer it will randomly permute np.arange(x) while if the input is an array it will make a copy and shuffle the elements randomly."
   ]
  },
  {
   "cell_type": "code",
   "execution_count": 13,
   "metadata": {},
   "outputs": [
    {
     "name": "stdout",
     "output_type": "stream",
     "text": [
      "Shuffle 1D [  2   1   8   5 100   3  10   2   3] \n",
      "\n",
      "Shuffle 3D [list([2, 5, 6, 1, 300]) list([100, 5, 1, 2, 3]) list([9, 4, 23, 200])] \n",
      "\n",
      "Reshape 1D \n",
      " [[  2   1   8]\n",
      " [  5 100   3]\n",
      " [ 10   2   3]] \n",
      "\n"
     ]
    }
   ],
   "source": [
    "'''\n",
    "numpy.random.shuffle(x)\n",
    "\n",
    "    * Modify a sequence in-place by shuffling its contents.\n",
    "    * Shuffle the array along the first axis of a multi-dimensional array while the order any sub-arrays will be changed \n",
    "      and their contents will stay the same.\n",
    "'''\n",
    "\n",
    "# Shuffle can be used in differenrt deimensions. \n",
    "a1 = np.array([100, 5, 1, 2, 3,3,2,8,10])\n",
    "np.random.shuffle(a1)\n",
    "print(\"Shuffle 1D\",a1, \"\\n\")\n",
    "\n",
    "# Shuffle can be used in differenrt deimensions. \n",
    "a3 = np.array([[100,5,1,2,3] , [9,4,23,200], [2,5,6,1,300]])\n",
    "np.random.shuffle(a3)\n",
    "print(\"Shuffle 3D\",a3,\"\\n\")\n",
    "\n",
    "# The shuffle can also be reshaped. I have reshaped a1 as it has 9 digits and the reshape is will 3,3 \n",
    "a3 = a1.reshape(3,3)\n",
    "print(\"Reshape 1D \\n\",a3,\"\\n\")"
   ]
  },
  {
   "cell_type": "code",
   "execution_count": 14,
   "metadata": {},
   "outputs": [
    {
     "name": "stdout",
     "output_type": "stream",
     "text": [
      "Array from 0  9 :\n",
      " [1 6 5 9 4 2 7 0 3 8] \n",
      "\n",
      "Permute arrays :\n",
      " [list([9, 4, 23, 200]) list([2, 5, 6, 1, 300]) list([100, 5, 1, 2, 3])] \n",
      "\n",
      "Permute arrays :\n",
      " ['World' 'Hello' 'Here' 'Richard' 'Feeney']\n"
     ]
    }
   ],
   "source": [
    "'''\n",
    "numpy.random.permutation(x)\n",
    "\n",
    "    * Randomly permute a sequence, or return a permuted range.\n",
    "'''\n",
    "\n",
    "# Generate random ordered an array using permutation.\n",
    "print(\"Array from 0  9 :\\n\",np.random.permutation(10),\"\\n\")\n",
    "\n",
    "# Permute an array.\n",
    "print(\"Permute arrays :\\n\",np.random.permutation ([[100,5,1,2,3] , [9,4,23,200], [2,5,6,1,300]]),\"\\n\")\n",
    "\n",
    "# Permute an array\n",
    "print(\"Permute arrays :\\n\",np.random.permutation(['Hello', 'World', 'Richard', 'Feeney', 'Here']))\n"
   ]
  },
  {
   "cell_type": "markdown",
   "metadata": {},
   "source": [
    "## Task 3: Explain the use and purpose of at least five “Distributions” functions.\n",
    "\n",
    "In this section I will explain the following distributions :\n",
    "\n",
    "* Normal Distribution\n",
    "* Binomial Distribution\n",
    "* Uniform distribution\n",
    "* Poisson Distribution\n",
    "* Dirichlet Distribution\n",
    "* Logistic Distribution"
   ]
  },
  {
   "cell_type": "markdown",
   "metadata": {},
   "source": [
    "### Task 3.1 : Normal Distribution"
   ]
  },
  {
   "cell_type": "markdown",
   "metadata": {},
   "source": [
    "The normal distribution also known as the Gaussian distribution has a with a bell curve and can be considered one of the most common and most important probability distributions in statistics. The reason it is so important is because it fits many natural phenomena. _(Frost, 2019)_. For example, heights, test scores etc all follow the normal distribution. \n",
    "\n",
    "The mean is the same median and is represented at the center and the bell curve. Half of the values are placed to the left and the other half will be placed to the right, the total area under the curve is one standard deviation of the mean, more  standard deviation are added to catch all values. The standard deviation is a measurement of the how spread out the numbers are over the chart. The 68-95-99.7 rule stats that when using a normal distribution variable, we can think of 68 as the total percentage of values that are within the first standard deviation of the mean, 95 percent of values are in the second deviation of the mean and that 7 percent will lie in the third deviation. _(Mathsisfun.com, 2019)_\n",
    "\n",
    "The probability density is :\n",
    "\n",
    "$ p(x) = \\frac{1}{\\sqrt{ 2 \\pi \\sigma^2 }}\n",
    " e^{ - \\frac{ (x - \\mu)^2 } {2 \\sigma^2} },$\n",
    "\n",
    "\n",
    "\n",
    "Please view the image below that will offer a visual representation: \n",
    "\n",
    "\n",
    "<img src=\"images/Normal.JPG\"/>\n"
   ]
  },
  {
   "cell_type": "code",
   "execution_count": 46,
   "metadata": {},
   "outputs": [
    {
     "name": "stdout",
     "output_type": "stream",
     "text": [
      "1D Array filled with random values  : \n",
      "\n",
      " [ 0.34353639  0.55319088  1.24391534  1.1169873   0.47743048 -1.22081003\n",
      "  1.60781912 -0.44183227 -0.96703149 -0.04273417 -0.35429194 -0.68558508\n",
      "  0.44951404 -0.76509421  0.4585405  -0.19056034  0.409802    1.09588894\n",
      "  0.47337575 -1.71899948 -0.94821136 -1.02755799 -0.48346394  0.8392422\n",
      " -0.22403138 -0.23123009  0.82947181 -0.76442306 -1.57590789  1.21359511\n",
      "  0.89404026 -1.31965744 -0.30508737 -0.66160821 -1.15643152  0.0997791\n",
      " -0.04004915 -0.89594664 -1.22817803  0.46506996  2.35545623  1.8101426\n",
      " -1.15289291 -0.24990474 -0.656197   -1.22374191 -3.3236461  -1.14935679\n",
      "  0.70200996  0.29491178  0.99943575  0.40634039 -0.90288287  1.02758197\n",
      " -0.61926044 -0.10817996  0.28284231 -0.00877516  1.24348644  0.06573916\n",
      " -0.7063181   1.4658939   0.01973311  0.75109734  0.65993808 -0.41018914\n",
      "  0.97582743 -1.05986723  0.72689055 -0.05501694 -0.19717623  0.54511977\n",
      "  1.48084643 -0.06386791 -1.4490354  -0.31464428  0.35788967  1.37891428\n",
      "  0.10714404  0.55356045  0.46675828  1.23989932 -0.63769634 -0.32791882\n",
      " -0.33942318  0.13535431 -0.70605256 -0.60301667 -1.10522399 -0.6089931\n",
      " -0.76543503  1.18567486  1.05864119 -0.45008377 -0.21517043  0.01707484\n",
      "  0.38032468  0.09847701  1.74945472 -0.39122513]\n"
     ]
    },
    {
     "data": {
      "image/png": "[encoded data removed]",
      "text/plain": [
       "<Figure size 432x288 with 1 Axes>"
      ]
     },
     "metadata": {
      "needs_background": "light"
     },
     "output_type": "display_data"
    }
   ],
   "source": [
    "# np.random.normal(loc=0.0, scale=1.0, size=None) \n",
    "   \n",
    "# 1D Array as per Gaussian Distribution , The mean is 0 and standard deviation is 1\n",
    "normal = np.random.normal(0, 1.0, 100) \n",
    "print(\"1D Array filled with random values  :\",\"\\n\\n\", normal); \n",
    "\n",
    "# Plot Histogram\n",
    "plt.title(\"Normal Distribution Histogram\")\n",
    "plt.show(sns.distplot(np.random.normal(0, 3, 1000), bins=30))"
   ]
  },
  {
   "cell_type": "code",
   "execution_count": 68,
   "metadata": {},
   "outputs": [
    {
     "data": {
      "image/png": "[encoded data removed]",
      "text/plain": [
       "<Figure size 432x288 with 1 Axes>"
      ]
     },
     "metadata": {
      "needs_background": "light"
     },
     "output_type": "display_data"
    }
   ],
   "source": [
    "# Another way of generating the distribution\n",
    "\n",
    "# Plot a histogram \n",
    "m, sd = 0.0, 1.0 # set the mean and standard deviation\n",
    "normal = np.random.normal(m, sd, 1000) # generate results and store in var normal\n",
    "\n",
    "# Plot using probability density function\n",
    "count, bins, ignored= plt.hist(normal, 20, density=True)\n",
    "plt.plot(bins, 1/(sd * np.sqrt(2 * np.pi)) * np.exp( - (bins - m)**2 / (2 * sd**2) ),linewidth=2, color='r')\n",
    "plt.show()"
   ]
  }
 ],
 "metadata": {
  "kernelspec": {
   "display_name": "Python 3",
   "language": "python",
   "name": "python3"
  },
  "language_info": {
   "codemirror_mode": {
    "name": "ipython",
    "version": 3
   },
   "file_extension": ".py",
   "mimetype": "text/x-python",
   "name": "python",
   "nbconvert_exporter": "python",
   "pygments_lexer": "ipython3",
   "version": "3.7.3"
  }
 },
 "nbformat": 4,
 "nbformat_minor": 2
}
