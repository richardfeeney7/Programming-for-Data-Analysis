{
 "cells": [
  {
   "cell_type": "markdown",
   "metadata": {},
   "source": [
    "# Programming-for-Data-Analysis"
   ]
  },
  {
   "cell_type": "markdown",
   "metadata": {},
   "source": [
    "## Task 1 : Explain the overall purpose of the package"
   ]
  },
  {
   "cell_type": "markdown",
   "metadata": {},
   "source": [
    "_NumPy, short for Numerical Python, is a Python library. It is a fundamental Python package that is used for scientific \n",
    "computing.  According to (Docs.scipy.org, 2019), “NumPy provides a multidimensional array object, various derived objects \n",
    "(such as masked arrays and matrices), and an assortment of routines for fast operations on arrays, including mathematical, \n",
    "logical, shape manipulation, sorting, selecting, I/O, discrete Fourier transforms, basic linear algebra, basic statistical \n",
    "operations, random simulation and much more”. Bacially what this means is that NumPy is very fast dealing with numbers that are in list or multidimensional arrays (lists within lists). We can think of an array as a collection of elements that are of the same \n",
    "type and can store one of more values within a single variable. NumPy when used with packages such as Pandas and \n",
    "Matplotlib also us to visually see graph and statistics._\n",
    "\n",
    "\n",
    "_With regards to numpy.random, this is a sub-package of numpy package in Python. While working with simulations the ability \n",
    "to generate random numbers is required. According to (Subscription.packtpub.com, 2019) “It uses a particular algorithm, \n",
    "called the Mersenne Twister, to generate pseudorandom numbers”. When we think of the word random we would assume that the data that is generated would be completely random but with Python this is not the case in the scientific sense of the word as a pseudorandom number generator (PRNG) is essentially an algorithm for generating seemingly random but still reproducible data._  \n"
   ]
  },
  {
   "cell_type": "markdown",
   "metadata": {},
   "source": [
    "## Task 2 : Explain the use of the “Simple random data” and “Permutations” functions\n",
    "\n",
    "#### Task 2.1 : Explain the use of “Simple random data” "
   ]
  },
  {
   "cell_type": "markdown",
   "metadata": {},
   "source": [
    "Simple random sample  can be defined as a subset of a statistical population where of its members has equal probability to be chosen. Simple random data will generate random values that depend on the function selected. The main functions for Random Sampling is uniform, uniform sample, discrete uniform, continuous uniform and standard normal distributions. \n",
    "\n",
    "#### numpy.random uses many different functions that I will explain below."
   ]
  },
  {
   "cell_type": "code",
   "execution_count": 1,
   "metadata": {},
   "outputs": [],
   "source": [
    "# Import the libaries needed \n",
    "\n",
    "import numpy as np\n",
    "import matplotlib.pyplot as plt\n",
    "%matplotlib inline"
   ]
  },
  {
   "cell_type": "code",
   "execution_count": 2,
   "metadata": {},
   "outputs": [
    {
     "name": "stdout",
     "output_type": "stream",
     "text": [
      "1D Array\n",
      " [0.46865988 0.46276656 0.23910579] \n",
      "\n",
      "2D Array\n",
      " [[0.76700912 0.8428156  0.70752501 0.44542356 0.34276027 0.63343901]\n",
      " [0.77830052 0.44606041 0.57998117 0.61118974 0.2081819  0.25084969]\n",
      " [0.86155639 0.37943289 0.48909978 0.96976941 0.26335446 0.99403461]] \n",
      "\n",
      "3D Array\n",
      " [[[0.7087343  0.70507499 0.87257472 0.76952546 0.85860357 0.26158059\n",
      "   0.62436849]\n",
      "  [0.46027313 0.97353243 0.3125151  0.42722879 0.08958096 0.50527207\n",
      "   0.82240587]]\n",
      "\n",
      " [[0.69339836 0.20648463 0.58107979 0.28171026 0.33550694 0.53722716\n",
      "   0.18358033]\n",
      "  [0.92444754 0.62310242 0.41278675 0.22098021 0.21958521 0.11767099\n",
      "   0.5042762 ]]\n",
      "\n",
      " [[0.03936654 0.40336263 0.8535478  0.26524366 0.93439455 0.67709227\n",
      "   0.57483144]\n",
      "  [0.52804011 0.9310654  0.81919483 0.46316753 0.96266502 0.20396583\n",
      "   0.34856232]]] \n",
      "\n"
     ]
    }
   ],
   "source": [
    "# Example of simply random data using numpy.random.rand using different array sizes\n",
    "\n",
    "'''\n",
    "numpy.random.rand (d0, d1, …, dn)\n",
    "\n",
    "    * Generates an array of a specified shape and fills the shape with random values\n",
    "    * Uses uniform distribution over\n",
    "    * A uniform distribution is one in which all values are equally likely with the set range. For example, a distribution \n",
    "      from zero to ten, the values from 2 to 3 have a 10% probability as do values from 3 to 5.\n",
    "'''\n",
    "\n",
    "# 1D Array \n",
    "print(\"1D Array\\n\",np.random.rand(3),\"\\n\")\n",
    "\n",
    "# 2D Array\n",
    "print(\"2D Array\\n\",np.random.rand(3,6),\"\\n\")\n",
    "\n",
    "# 3D Array\n",
    "print(\"3D Array\\n\",np.random.rand(3,2,7),\"\\n\")\n"
   ]
  },
  {
   "cell_type": "code",
   "execution_count": 3,
   "metadata": {},
   "outputs": [
    {
     "name": "stdout",
     "output_type": "stream",
     "text": [
      "1D Array\n",
      " [ 1.1441795  -1.53425704 -0.11351563] \n",
      "\n",
      "2D Array\n",
      " [[ 0.47480781 -1.38018247 -0.27930875 -0.63285418]\n",
      " [-0.49269928 -0.76437684 -0.03580531  1.14492431]\n",
      " [-1.50598182  1.35675798  0.37876888  0.8796179 ]] \n",
      "\n",
      "3D Array\n",
      " [[[ 0.40835442  0.39656539 -0.17863949]\n",
      "  [ 0.48019349 -0.20098815  0.90488095]\n",
      "  [ 0.51902241 -1.82755834 -0.39745884]\n",
      "  [ 0.51201591  2.06054368  0.41921498]]\n",
      "\n",
      " [[ 0.95398832  0.74626045  0.01449512]\n",
      "  [-1.14190545 -0.12654519  2.33790513]\n",
      "  [ 0.00270235  1.17361663 -1.6826903 ]\n",
      "  [ 2.3842295  -1.81979848  1.08628074]]\n",
      "\n",
      " [[ 1.74001758  0.85024431  2.21107228]\n",
      "  [ 0.53696335  0.47668077  0.83344902]\n",
      "  [ 0.16674954  1.98026208  1.1218914 ]\n",
      "  [-1.13206679 -2.26367302  0.48820215]]] \n",
      "\n",
      "2D Array\n",
      " [[ 1.61645418  0.44167705 -1.5815813  -0.09307664]\n",
      " [ 1.0950756   0.76372037 -0.072123   -1.41837891]\n",
      " [ 0.23986695  1.07366172  1.55239062  1.05046367]] \n",
      "\n",
      "\n",
      "Array * 2 : \n",
      " [[ 3.23290836  0.8833541  -3.1631626  -0.18615328]\n",
      " [ 2.1901512   1.52744074 -0.144246   -2.83675782]\n",
      " [ 0.47973391  2.14732345  3.10478124  2.10092733]]\n",
      "\n",
      "Array ** 2 : \n",
      " [[2.61292411 0.19507862 2.50139941 0.00866326]\n",
      " [1.19919057 0.5832688  0.00520173 2.01179873]\n",
      " [0.05753616 1.1527495  2.40991663 1.10347392]]\n"
     ]
    }
   ],
   "source": [
    "'''\n",
    "numpy.random.randn(d0, d1, ..., dn)\n",
    "\n",
    "    * Generates an array of a specified shape and fills the shape with random values \n",
    "    * Uses normal distribution.\n",
    "    * A normal distribution is when vales cluster around the average\n",
    "    * Possible to manipulate array.\n",
    "'''\n",
    "\n",
    "# 1D Array \n",
    "randn_array1D = np.random.randn(3)\n",
    "print(\"1D Array\\n\",randn_array1D,\"\\n\")\n",
    "\n",
    "# 2D Array\n",
    "randn_array2D = np.random.randn(3,4)\n",
    "print(\"2D Array\\n\",randn_array2D,\"\\n\")\n",
    " \n",
    "# 3D Array\n",
    "randn_array3D = np.random.randn(3,4,3)\n",
    "print(\"3D Array\\n\",randn_array3D,\"\\n\")\n",
    "\n",
    "\n",
    "# Manipulation of 2D array\n",
    "\n",
    "# 2D Array\n",
    "randn_array2D = np.random.randn(3,4)\n",
    "print(\"2D Array\\n\",randn_array2D,\"\\n\")\n",
    "       \n",
    "# Dividing values with 2. Adding, subtracting and dividing following a similar format. \n",
    "print(\"\\nArray * 2 : \\n\", randn_array2D *2)\n",
    "\n",
    "#  Find array2d ** 2. \n",
    "print(\"\\nArray ** 2 : \\n\", randn_array2D **2)\n",
    "\n",
    " "
   ]
  },
  {
   "cell_type": "code",
   "execution_count": 4,
   "metadata": {},
   "outputs": [
    {
     "name": "stdout",
     "output_type": "stream",
     "text": [
      "1D Array:\n",
      " [4 5 4 4 3 4 4 2 2] \n",
      "\n",
      "2D Array:\n",
      " [[4 4 5]\n",
      " [3 4 4]\n",
      " [5 2 3]\n",
      " [4 4 5]\n",
      " [5 5 3]\n",
      " [5 4 3]\n",
      " [5 4 3]\n",
      " [2 5 5]\n",
      " [4 4 4]] \n",
      "\n",
      "3D Array:\n",
      " [[[2 2]\n",
      "  [5 4]\n",
      "  [5 5]]\n",
      "\n",
      " [[4 4]\n",
      "  [4 5]\n",
      "  [3 4]]\n",
      "\n",
      " [[2 4]\n",
      "  [5 4]\n",
      "  [3 5]]\n",
      "\n",
      " [[5 3]\n",
      "  [5 5]\n",
      "  [5 5]]\n",
      "\n",
      " [[5 2]\n",
      "  [4 2]\n",
      "  [5 5]]\n",
      "\n",
      " [[4 2]\n",
      "  [5 2]\n",
      "  [5 3]]\n",
      "\n",
      " [[5 2]\n",
      "  [5 5]\n",
      "  [5 4]]\n",
      "\n",
      " [[5 5]\n",
      "  [2 5]\n",
      "  [2 5]]\n",
      "\n",
      " [[5 2]\n",
      "  [2 4]\n",
      "  [3 2]]] \n",
      "\n"
     ]
    }
   ],
   "source": [
    "'''\n",
    "numpy.random.randint(low, high=None, size=None, dtype='l')\n",
    "\n",
    "    * Generates and returns random integers. The returned array will be fitter with random numbers from low(inclusive) to \n",
    "      high (exclusive).\n",
    "\n",
    "'''\n",
    "\n",
    "# 1D Array\n",
    "# Lowest number will be and including 2 , highest number upto not including 6, 9 values will be displayed in the array\n",
    "randint_array1D = np.random.randint(low = 2, high = 6, size = 9) \n",
    "print (\"1D Array:\\n\",randint_array1D, \"\\n\")  \n",
    "\n",
    "# 2D Array\n",
    "# Output 9 arrays in one array with three elements in each\n",
    "randint_array2D = np.random.randint(low = 2, high = 6, size = (9, 3))\n",
    "print (\"2D Array:\\n\",randint_array2D, \"\\n\") \n",
    "\n",
    "# 3D Array\n",
    "# Output 9 different arrays with three arrays inside whch have two numbers in each\n",
    "randint_array3D = np.random.randint(low = 2, high = 6, size = (9, 3, 2))\n",
    "print (\"3D Array:\\n\",randint_array3D, \"\\n\") \n"
   ]
  },
  {
   "cell_type": "code",
   "execution_count": 5,
   "metadata": {},
   "outputs": [
    {
     "name": "stdout",
     "output_type": "stream",
     "text": [
      "1D Array:\n",
      " [4 6 3 3 3 4 4 4 5] \n",
      "\n",
      "2D Array:\n",
      " [[3 6 4]\n",
      " [2 2 6]\n",
      " [5 6 3]\n",
      " [3 6 2]\n",
      " [3 6 5]\n",
      " [4 6 6]\n",
      " [6 2 2]\n",
      " [5 6 4]\n",
      " [2 2 3]] \n",
      "\n",
      "3D Array:\n",
      " [[[5 3]\n",
      "  [4 4]\n",
      "  [4 6]]\n",
      "\n",
      " [[2 5]\n",
      "  [4 5]\n",
      "  [2 4]]\n",
      "\n",
      " [[6 6]\n",
      "  [4 4]\n",
      "  [5 5]]\n",
      "\n",
      " [[5 4]\n",
      "  [2 4]\n",
      "  [4 5]]\n",
      "\n",
      " [[2 5]\n",
      "  [2 3]\n",
      "  [4 6]]\n",
      "\n",
      " [[6 4]\n",
      "  [4 5]\n",
      "  [5 2]]\n",
      "\n",
      " [[5 2]\n",
      "  [6 5]\n",
      "  [6 3]]\n",
      "\n",
      " [[2 2]\n",
      "  [3 2]\n",
      "  [3 6]]\n",
      "\n",
      " [[5 5]\n",
      "  [3 5]\n",
      "  [5 6]]] \n",
      "\n"
     ]
    },
    {
     "name": "stderr",
     "output_type": "stream",
     "text": [
      "C:\\Users\\richa\\Anaconda3\\lib\\site-packages\\ipykernel_launcher.py:9: DeprecationWarning: This function is deprecated. Please call randint(2, 6 + 1) instead\n",
      "  if __name__ == '__main__':\n",
      "C:\\Users\\richa\\Anaconda3\\lib\\site-packages\\ipykernel_launcher.py:14: DeprecationWarning: This function is deprecated. Please call randint(2, 6 + 1) instead\n",
      "  \n",
      "C:\\Users\\richa\\Anaconda3\\lib\\site-packages\\ipykernel_launcher.py:19: DeprecationWarning: This function is deprecated. Please call randint(2, 6 + 1) instead\n"
     ]
    }
   ],
   "source": [
    "'''\n",
    "numpy.random.random_integers(low, high=None, size=None)\n",
    "\n",
    "    * Generates and returns an array of specified shape and fills it with random integers from low (inclusive) to \n",
    "      high (exclusive)\n",
    "'''\n",
    "\n",
    "# 1D Array\n",
    "# Lowest number will be and including 2 , highest number upto not including 6, 9 values will be displayed in the array\n",
    "random_integers_array1D = np.random.random_integers(low = 2, high = 6, size = 9) \n",
    "print (\"1D Array:\\n\",random_integers_array1D, \"\\n\")  \n",
    "\n",
    "# 2D Array\n",
    "# Output 9 arrays in one array with three elements in each\n",
    "random_integers_array2D = np.random.random_integers(low = 2, high = 6, size = (9, 3))\n",
    "print (\"2D Array:\\n\",random_integers_array2D, \"\\n\") \n",
    "\n",
    "# 3D Array\n",
    "# Output 9 different arrays with three arrays inside whch have two numbers in each\n",
    "random_integers_array3D = np.random.random_integers(low = 2, high = 6, size = (9, 3, 2))\n",
    "print (\"3D Array:\\n\",random_integers_array3D, \"\\n\") \n"
   ]
  },
  {
   "cell_type": "code",
   "execution_count": 6,
   "metadata": {},
   "outputs": [
    {
     "name": "stdout",
     "output_type": "stream",
     "text": [
      "1D Array:\n",
      " 0.19597993753728704 \n",
      "\n",
      "2D Array:\n",
      " [[0.67829389 0.3924503  0.39048114]] \n",
      "\n",
      "3D Array:\n",
      " [[[0.08167874]\n",
      "  [0.90808339]]\n",
      "\n",
      " [[0.57287133]\n",
      "  [0.1243445 ]]\n",
      "\n",
      " [[0.67878105]\n",
      "  [0.4108213 ]]] \n",
      "\n"
     ]
    }
   ],
   "source": [
    "'''\n",
    "numpy.random.random_sample(size=None)\n",
    "\n",
    "    * A function for random sampling in numpy. The function will return an array and fill it with random floats.\n",
    "    * The results will be in from a continuous uniform distribution over the stated interval.\n",
    "'''\n",
    "\n",
    "# 1D Array\n",
    "# Output random Float number\n",
    "random_sample_array1D = np.random.random_sample()\n",
    "print (\"1D Array:\\n\",random_sample_array1D, \"\\n\")\n",
    "\n",
    "# 2D Array\n",
    "# One array with three random float numbers\n",
    "random_sample_array2D = np.random.random_sample(size =(1, 3))\n",
    "print (\"2D Array:\\n\",random_sample_array2D, \"\\n\") \n",
    "\n",
    "# 3D Array\n",
    "# One arrays that contain two float numbers\n",
    "random_sample_array3D = np.random.random_sample((3, 2, 1))\n",
    "print (\"3D Array:\\n\",random_sample_array3D, \"\\n\") "
   ]
  },
  {
   "cell_type": "code",
   "execution_count": 7,
   "metadata": {},
   "outputs": [
    {
     "name": "stdout",
     "output_type": "stream",
     "text": [
      "1D Array:\n",
      " [0.09225614 0.02272363 0.18853034 0.47994566 0.8528089 ] \n",
      "\n",
      "2D Array:\n",
      " [[0.96242935 0.90996727 0.03498953 0.10548213]\n",
      " [0.69821131 0.46886668 0.11242307 0.017649  ]] \n",
      "\n",
      "3D Array:\n",
      " [[[0.22757896 0.79124533]\n",
      "  [0.70672713 0.33582406]\n",
      "  [0.38628346 0.12523687]\n",
      "  [0.43724519 0.24642233]]\n",
      "\n",
      " [[0.68431828 0.7988488 ]\n",
      "  [0.38195522 0.372296  ]\n",
      "  [0.98308719 0.85800338]\n",
      "  [0.70191113 0.65280659]]] \n",
      "\n"
     ]
    }
   ],
   "source": [
    "'''\n",
    "numpy.random.random(size=None)\n",
    "\n",
    "    * Also function for doing random sampling.\n",
    "    * The results will be in from a continuous uniform distribution over the stated interval.\n",
    "'''\n",
    "\n",
    "# 1D Array\n",
    "# Output five random Float numbers\n",
    "random_random_array1D = np.random.random(size = 5)\n",
    "print (\"1D Array:\\n\",random_random_array1D, \"\\n\")\n",
    "\n",
    "# 2D Array\n",
    "# Output array with two sets four random float numbers inside\n",
    "random_random_array2D = np.random.random(size =(2, 4))\n",
    "print (\"2D Array:\\n\",random_random_array2D, \"\\n\") \n",
    "\n",
    "# 3D Array\n",
    "# Output two arrays with random float numbers\n",
    "random_random_array3D = np.random.random((2, 4, 2))\n",
    "print (\"3D Array:\\n\",random_random_array3D, \"\\n\") \n"
   ]
  },
  {
   "cell_type": "code",
   "execution_count": 8,
   "metadata": {},
   "outputs": [
    {
     "name": "stdout",
     "output_type": "stream",
     "text": [
      "1D Array:\n",
      " 0.9722054955804504 \n",
      "\n",
      "2D Array:\n",
      " [[0.85351637 0.64034476 0.50158728 0.66450396]\n",
      " [0.510631   0.62777356 0.18756039 0.02046679]] \n",
      "\n",
      "3D Array:\n",
      " [[[0.8565181  0.36885819]\n",
      "  [0.67566551 0.55758298]\n",
      "  [0.09708824 0.79551315]\n",
      "  [0.47669968 0.30506635]]\n",
      "\n",
      " [[0.44143476 0.53269204]\n",
      "  [0.76015149 0.90187283]\n",
      "  [0.37918768 0.17569607]\n",
      "  [0.25314648 0.23065947]]] \n",
      "\n"
     ]
    }
   ],
   "source": [
    "''''\n",
    "numpy.random.ranf(size=None)\n",
    "\n",
    "    * Also function for doing random sampling.\n",
    "    * The results will be in from a continuous uniform distribution over the stated interval.\n",
    "'''\n",
    "\n",
    "\n",
    "# 1D Array\n",
    "# Output random Float number\n",
    "random_ranf_array1D = np.random.ranf()\n",
    "print (\"1D Array:\\n\",random_ranf_array1D, \"\\n\")\n",
    "\n",
    "# 2D Array\n",
    "# Output array with two sets four random float numbers inside\n",
    "random_ranf_array2D = np.random.ranf(size =(2, 4))\n",
    "print (\"2D Array:\\n\",random_ranf_array2D, \"\\n\") \n",
    "\n",
    "# 3D Array\n",
    "# Output two arrays with random float numbers\n",
    "random_ranf_array3D = np.random.ranf((2, 4, 2))\n",
    "print (\"3D Array:\\n\",random_ranf_array3D, \"\\n\") "
   ]
  },
  {
   "cell_type": "code",
   "execution_count": 9,
   "metadata": {},
   "outputs": [
    {
     "name": "stdout",
     "output_type": "stream",
     "text": [
      "1D Array:\n",
      " [0.82072    0.98100445 0.02378796 0.95476069 0.66807325] \n",
      "\n",
      "2D Array:\n",
      " [[0.89160814 0.71804062 0.20833928 0.61076193]\n",
      " [0.15906951 0.28553849 0.77053783 0.54836388]] \n",
      "\n",
      "3D Array:\n",
      " [[[0.31698999 0.58656708]\n",
      "  [0.24755641 0.60917423]\n",
      "  [0.20489241 0.16398708]\n",
      "  [0.05751389 0.76194831]]\n",
      "\n",
      " [[0.9483802  0.95722541]\n",
      "  [0.15708049 0.15734636]\n",
      "  [0.05593781 0.20555472]\n",
      "  [0.06564218 0.1239138 ]]] \n",
      "\n"
     ]
    }
   ],
   "source": [
    "'''\n",
    "numpy.random.sample(size=None)\n",
    "\n",
    "    * Also function for doing random sampling .\n",
    "    * The results will be in from a continuous uniform distribution over the stated interval.\n",
    "'''\n",
    "\n",
    "\n",
    "\n",
    "# 1D Array\n",
    "# Output five random Float numbers\n",
    "random_random_sample_array1D = np.random.sample(size = 5)\n",
    "print (\"1D Array:\\n\",random_random_sample_array1D, \"\\n\")\n",
    "\n",
    "# 2D Array\n",
    "# Output array with two sets four random float numbers inside\n",
    "random_random_sample_array2D = np.random.sample(size =(2, 4))\n",
    "print (\"2D Array:\\n\",random_random_sample_array2D, \"\\n\") \n",
    "\n",
    "# 3D Array\n",
    "# Output two arrays with random float numbers\n",
    "random_random_sample_array3D = np.random.sample((2, 4, 2))\n",
    "print (\"3D Array:\\n\",random_random_sample_array3D, \"\\n\") \n"
   ]
  },
  {
   "cell_type": "code",
   "execution_count": 10,
   "metadata": {},
   "outputs": [
    {
     "name": "stdout",
     "output_type": "stream",
     "text": [
      "[2 0 2]\n",
      "[2 3 0]\n"
     ]
    }
   ],
   "source": [
    "'''\n",
    "numpy.random.choice(a, size=None, replace=True, p=None)\n",
    "\n",
    "    * Generates a random sample from a given 1-D array\n",
    "'''\n",
    "\n",
    "# Display a non-uniform random sample\n",
    "print(np.random.choice(5, 3, p=[0.1, 0, 0.3, 0.6, 0]))\n",
    "\n",
    "# Use replacement\n",
    "print(np.random.choice(5, 3, replace=False, p=[0.1, 0, 0.3, 0.6, 0]))\n"
   ]
  },
  {
   "cell_type": "code",
   "execution_count": 11,
   "metadata": {},
   "outputs": [
    {
     "name": "stdout",
     "output_type": "stream",
     "text": [
      "Random bytes:  b\"\\xa0\\x08'-\\xf5~\\xad\\x11\\xe1_\"\n"
     ]
    }
   ],
   "source": [
    "'''\n",
    "numpy.random.bytes(length)\n",
    "\n",
    "    * Return a random binary string\n",
    "'''\n",
    "\n",
    "# Print ramdon bytes\n",
    "print(\"Random bytes: \", np.random.bytes(10))"
   ]
  },
  {
   "cell_type": "markdown",
   "metadata": {},
   "source": [
    "### Task 2.2 : Explain the use of “Permutations” functions"
   ]
  },
  {
   "cell_type": "markdown",
   "metadata": {},
   "source": [
    "A permutation function will arrange a list or series of numbers. This function can also be used to change the order in a given list. The two main functions are permutation and shuffle which I will demonstrate below with examples. \n",
    "\n",
    "random.shuffle will shuffle the array along the first axis of a multi-dimensional array while the order any sub-arrays will be changed and their contents will stay the same.\n",
    "\n",
    "random.permutation on the other hand works differently. If the input is integer it will randomly permute np.arange(x) while if the input is an array it will make a copy and shuffle the elements randomly."
   ]
  },
  {
   "cell_type": "code",
   "execution_count": 12,
   "metadata": {},
   "outputs": [
    {
     "name": "stdout",
     "output_type": "stream",
     "text": [
      "Shuffle 1D [  2   3   1   2   5   8 100   3  10] \n",
      "\n",
      "Shuffle 3D [list([2, 5, 6, 1, 300]) list([100, 5, 1, 2, 3]) list([9, 4, 23, 200])] \n",
      "\n",
      "Reshape 1D \n",
      " [[  2   3   1]\n",
      " [  2   5   8]\n",
      " [100   3  10]] \n",
      "\n"
     ]
    }
   ],
   "source": [
    "'''\n",
    "numpy.random.shuffle(x)\n",
    "\n",
    "    * Modify a sequence in-place by shuffling its contents.\n",
    "    * Shuffle the array along the first axis of a multi-dimensional array while the order any sub-arrays will be changed \n",
    "      and their contents will stay the same.\n",
    "'''\n",
    "\n",
    "# Shuffle can be used in differenrt deimensions. \n",
    "a1 = np.array([100, 5, 1, 2, 3,3,2,8,10])\n",
    "np.random.shuffle(a1)\n",
    "print(\"Shuffle 1D\",a1, \"\\n\")\n",
    "\n",
    "# Shuffle can be used in differenrt deimensions. \n",
    "a3 = np.array([[100,5,1,2,3] , [9,4,23,200], [2,5,6,1,300]])\n",
    "np.random.shuffle(a3)\n",
    "print(\"Shuffle 3D\",a3,\"\\n\")\n",
    "\n",
    "# The shuffle can also be reshaped. I have reshaped a1 as it has 9 digits and the reshape is will 3,3 \n",
    "a3 = a1.reshape(3,3)\n",
    "print(\"Reshape 1D \\n\",a3,\"\\n\")"
   ]
  },
  {
   "cell_type": "code",
   "execution_count": 13,
   "metadata": {},
   "outputs": [
    {
     "name": "stdout",
     "output_type": "stream",
     "text": [
      "Array from 0  9 :\n",
      " [5 6 2 4 1 9 3 8 0 7] \n",
      "\n",
      "Permute arrays :\n",
      " [list([100, 5, 1, 2, 3]) list([2, 5, 6, 1, 300]) list([9, 4, 23, 200])] \n",
      "\n",
      "Permute arrays :\n",
      " ['Here' 'Hello' 'World' 'Feeney' 'Richard']\n"
     ]
    }
   ],
   "source": [
    "'''\n",
    "numpy.random.permutation(x)\n",
    "\n",
    "    * Randomly permute a sequence, or return a permuted range.\n",
    "'''\n",
    "\n",
    "# Generate random ordered an array using permutation.\n",
    "print(\"Array from 0  9 :\\n\",np.random.permutation(10),\"\\n\")\n",
    "\n",
    "# Permute an array.\n",
    "print(\"Permute arrays :\\n\",np.random.permutation ([[100,5,1,2,3] , [9,4,23,200], [2,5,6,1,300]]),\"\\n\")\n",
    "\n",
    "# Permute an array\n",
    "print(\"Permute arrays :\\n\",np.random.permutation(['Hello', 'World', 'Richard', 'Feeney', 'Here']))\n"
   ]
  },
  {
   "cell_type": "code",
   "execution_count": null,
   "metadata": {},
   "outputs": [],
   "source": []
  }
 ],
 "metadata": {
  "kernelspec": {
   "display_name": "Python 3",
   "language": "python",
   "name": "python3"
  },
  "language_info": {
   "codemirror_mode": {
    "name": "ipython",
    "version": 3
   },
   "file_extension": ".py",
   "mimetype": "text/x-python",
   "name": "python",
   "nbconvert_exporter": "python",
   "pygments_lexer": "ipython3",
   "version": "3.7.3"
  }
 },
 "nbformat": 4,
 "nbformat_minor": 2
}
