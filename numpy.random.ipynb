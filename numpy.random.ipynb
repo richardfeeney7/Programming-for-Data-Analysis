{
 "cells": [
  {
   "cell_type": "markdown",
   "metadata": {},
   "source": [
    "# Programming-for-Data-Analysis"
   ]
  },
  {
   "cell_type": "code",
   "execution_count": 4,
   "metadata": {},
   "outputs": [],
   "source": [
    "# Import libaries\n",
    "\n",
    "import numpy as np\n",
    "from numpy import random\n",
    "import seaborn as sns"
   ]
  },
  {
   "cell_type": "markdown",
   "metadata": {},
   "source": [
    "## Task 1 : Explain the overall purpose of the package"
   ]
  },
  {
   "cell_type": "markdown",
   "metadata": {},
   "source": [
    "_NumPy, short for Numerical Python, is a Python library. It is a fundamental Python package that is used for scientific \n",
    "computing.  According to (Docs.scipy.org, 2019), “NumPy provides a multidimensional array object, various derived objects \n",
    "(such as masked arrays and matrices), and an assortment of routines for fast operations on arrays, including mathematical, \n",
    "logical, shape manipulation, sorting, selecting, I/O, discrete Fourier transforms, basic linear algebra, basic statistical \n",
    "operations, random simulation and much more”. We can think of an array as a collection of elements that are of the same \n",
    "type and can store one of more values within a single variable. NumPy when used with packages such as Pandas and \n",
    "Matplotlib also us to visually see graph and statistics._\n",
    "\n",
    "\n",
    "_With regards to numpy.random, this is a sub-package of numpy package in Python. While working with simulations the ability \n",
    "to generate random numbers is required. According to (Subscription.packtpub.com, 2019) “It uses a particular algorithm, \n",
    "called the Mersenne Twister, to generate pseudorandom numbers”. When working with numpy.random we are required to define a \n",
    "seed. The seed is a function sets the random seed of the number generator and when the value is reset the same numbers will\n",
    "appear each time. We don’t have to assign a seed and, in this case, NumPy will select the seed value._  \n"
   ]
  },
  {
   "cell_type": "markdown",
   "metadata": {},
   "source": [
    "## Task 2 : Explain the use of the “Simple random data” and “Permutations” functions"
   ]
  },
  {
   "cell_type": "code",
   "execution_count": null,
   "metadata": {},
   "outputs": [],
   "source": []
  },
  {
   "cell_type": "markdown",
   "metadata": {},
   "source": [
    "## Task 3 : Explain the use and purpose of at least five “Distributions” functions."
   ]
  },
  {
   "cell_type": "code",
   "execution_count": null,
   "metadata": {},
   "outputs": [],
   "source": []
  },
  {
   "cell_type": "markdown",
   "metadata": {},
   "source": [
    "## Task 4 : Explain the use of seeds in generating pseudorandom numbers."
   ]
  },
  {
   "cell_type": "code",
   "execution_count": null,
   "metadata": {},
   "outputs": [],
   "source": []
  }
 ],
 "metadata": {
  "kernelspec": {
   "display_name": "Python 3",
   "language": "python",
   "name": "python3"
  },
  "language_info": {
   "codemirror_mode": {
    "name": "ipython",
    "version": 3
   },
   "file_extension": ".py",
   "mimetype": "text/x-python",
   "name": "python",
   "nbconvert_exporter": "python",
   "pygments_lexer": "ipython3",
   "version": "3.7.3"
  }
 },
 "nbformat": 4,
 "nbformat_minor": 2
}
